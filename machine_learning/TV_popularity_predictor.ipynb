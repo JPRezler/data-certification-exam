{
 "cells": [
  {
   "cell_type": "markdown",
   "metadata": {},
   "source": [
    "# TV shows Popularity Predictor (39%)\n",
    "\n",
    "The goal of this challenge is to create a model that predicts the `popularity` of a movie or TV show\n",
    "\n",
    "<img src=\"image.jpg\" width=300 />\n",
    "\n",
    "\n",
    "\n",
    "\n",
    "The dataset contains a list of movies and TV shows with the following characteristics:\n",
    "- `title`: title of the movie in english\n",
    "- `original_title`: original title of the movie \n",
    "- `duration_min`: duration of the movie in minutes\n",
    "- `popularity`: popularity of the movie in terms of review scores\n",
    "- `release_date`: release date\n",
    "- `description`: short summary of the movie\n",
    "- `budget`: budget spent to produce the movie in USD\n",
    "- `revenue`: movie revenue in USD \n",
    "- `original_language`: original language \n",
    "- `status`: is the movie already released or not\n",
    "- `number_of_awards_won`: number of awards won for the movie\n",
    "- `number_of_nominations`: number of nominations\n",
    "- `has_collection`: if the movie is part of a sequel or not\n",
    "- `all_genres`: genres that described the movie (can be zero, one or many!) \n",
    "- `top_countries`: countries where the movie was produced (can be zero, one or many!) \n",
    "- `number_of_top_productions`: number of top production companies that produced the film if any. \n",
    "Top production companies includes: Warner Bros, Universal Pictures, Paramount Pictures, Canal+, etc...\n",
    "- `available_in_english`: whether the movie is available in english or not"
   ]
  },
  {
   "cell_type": "markdown",
   "metadata": {},
   "source": [
    "## Imports\n",
    "\n",
    "Run the following cell to load the basic packages:"
   ]
  },
  {
   "cell_type": "code",
   "execution_count": 1,
   "metadata": {
    "ExecuteTime": {
     "end_time": "2021-06-30T08:47:31.989672Z",
     "start_time": "2021-06-30T08:47:31.470707Z"
    }
   },
   "outputs": [],
   "source": [
    "import numpy as np\n",
    "import pandas as pd\n",
    "import matplotlib.pyplot as plt\n",
    "import seaborn as sns\n",
    "from nbresult import ChallengeResult"
   ]
  },
  {
   "cell_type": "markdown",
   "metadata": {},
   "source": [
    "## Data collection\n",
    "\n",
    "📝 **Load the `movie_popularity.csv` dataset from the provided this [URL](https://wagon-public-datasets.s3.amazonaws.com/certification_france_2021_q2/tv_movies_popularity.csv)**\n",
    "- First, check and remove the rows that may be complete duplicate from one another (we never know!)\n",
    "- Then, drop the columns that have too much missing values\n",
    "- Finally, drop the few remaining rows that have missing values\n",
    "- Store the result in a `DataFrame` named `data`"
   ]
  },
  {
   "cell_type": "code",
   "execution_count": 5,
   "metadata": {
    "ExecuteTime": {
     "end_time": "2021-06-30T08:54:07.710178Z",
     "start_time": "2021-06-30T08:54:07.670219Z"
    },
    "slideshow": {
     "slide_type": "notes"
    },
    "tags": [
     "challengify"
    ]
   },
   "outputs": [
    {
     "data": {
      "text/plain": [
       "(6864, 17)"
      ]
     },
     "execution_count": 5,
     "metadata": {},
     "output_type": "execute_result"
    }
   ],
   "source": [
    "data = pd.read_csv('tv_movies_popularity.csv')\n",
    "data.shape"
   ]
  },
  {
   "cell_type": "code",
   "execution_count": 6,
   "metadata": {
    "ExecuteTime": {
     "end_time": "2021-06-30T08:54:44.211017Z",
     "start_time": "2021-06-30T08:54:44.191637Z"
    }
   },
   "outputs": [
    {
     "data": {
      "text/plain": [
       "(6464, 17)"
      ]
     },
     "execution_count": 6,
     "metadata": {},
     "output_type": "execute_result"
    }
   ],
   "source": [
    "#remove duplicates\n",
    "data.drop_duplicates(inplace=True)\n",
    "data.shape"
   ]
  },
  {
   "cell_type": "markdown",
   "metadata": {},
   "source": [
    "400 duplicates removed"
   ]
  },
  {
   "cell_type": "code",
   "execution_count": 9,
   "metadata": {
    "ExecuteTime": {
     "end_time": "2021-06-30T08:58:05.539297Z",
     "start_time": "2021-06-30T08:58:05.526296Z"
    }
   },
   "outputs": [
    {
     "name": "stdout",
     "output_type": "stream",
     "text": [
      "<class 'pandas.core.frame.DataFrame'>\n",
      "Int64Index: 6464 entries, 0 to 6463\n",
      "Data columns (total 17 columns):\n",
      " #   Column                     Non-Null Count  Dtype  \n",
      "---  ------                     --------------  -----  \n",
      " 0   original_title             6464 non-null   object \n",
      " 1   title                      6463 non-null   object \n",
      " 2   popularity                 6464 non-null   float64\n",
      " 3   release_date               6464 non-null   object \n",
      " 4   duration_min               6464 non-null   float64\n",
      " 5   description                6464 non-null   object \n",
      " 6   budget                     6464 non-null   int64  \n",
      " 7   revenue                    2617 non-null   float64\n",
      " 8   original_language          6464 non-null   object \n",
      " 9   status                     6464 non-null   object \n",
      " 10  number_of_awards_won       6464 non-null   int64  \n",
      " 11  number_of_nominations      6464 non-null   int64  \n",
      " 12  has_collection             6464 non-null   int64  \n",
      " 13  all_genres                 6464 non-null   object \n",
      " 14  top_countries              6464 non-null   object \n",
      " 15  number_of_top_productions  6464 non-null   int64  \n",
      " 16  available_in_english       6464 non-null   bool   \n",
      "dtypes: bool(1), float64(3), int64(5), object(8)\n",
      "memory usage: 864.8+ KB\n"
     ]
    }
   ],
   "source": [
    "#check missing values with info\n",
    "data.info()"
   ]
  },
  {
   "cell_type": "markdown",
   "metadata": {},
   "source": [
    "Revenues has more than 50% of missing value, so should be dropped"
   ]
  },
  {
   "cell_type": "code",
   "execution_count": 11,
   "metadata": {
    "ExecuteTime": {
     "end_time": "2021-06-30T09:00:18.721556Z",
     "start_time": "2021-06-30T09:00:18.714969Z"
    }
   },
   "outputs": [],
   "source": [
    "data.drop(columns='revenue', inplace=True)"
   ]
  },
  {
   "cell_type": "code",
   "execution_count": 13,
   "metadata": {
    "ExecuteTime": {
     "end_time": "2021-06-30T09:00:31.082820Z",
     "start_time": "2021-06-30T09:00:31.070682Z"
    }
   },
   "outputs": [
    {
     "name": "stdout",
     "output_type": "stream",
     "text": [
      "column original_title has 0 missing values\n",
      "column title has 2 missing values\n",
      "column popularity has 0 missing values\n",
      "column release_date has 0 missing values\n",
      "column duration_min has 0 missing values\n",
      "column description has 0 missing values\n",
      "column budget has 0 missing values\n",
      "column original_language has 0 missing values\n",
      "column status has 0 missing values\n",
      "column number_of_awards_won has 0 missing values\n",
      "column number_of_nominations has 0 missing values\n",
      "column has_collection has 0 missing values\n",
      "column all_genres has 0 missing values\n",
      "column top_countries has 0 missing values\n",
      "column number_of_top_productions has 0 missing values\n",
      "column available_in_english has 0 missing values\n"
     ]
    }
   ],
   "source": [
    "#last check\n",
    "for col in data.columns :\n",
    "    missing_value = data[col].isna().sum() + data[col].isna().sum()\n",
    "    print(f'column {col} has {missing_value} missing values')"
   ]
  },
  {
   "cell_type": "markdown",
   "metadata": {},
   "source": [
    "We still have to drop the line with missing title"
   ]
  },
  {
   "cell_type": "code",
   "execution_count": 19,
   "metadata": {
    "ExecuteTime": {
     "end_time": "2021-06-30T09:03:33.128438Z",
     "start_time": "2021-06-30T09:03:33.121105Z"
    }
   },
   "outputs": [],
   "source": [
    "data.dropna(axis=0, inplace=True)"
   ]
  },
  {
   "cell_type": "code",
   "execution_count": 20,
   "metadata": {
    "ExecuteTime": {
     "end_time": "2021-06-30T09:03:42.252054Z",
     "start_time": "2021-06-30T09:03:42.247620Z"
    }
   },
   "outputs": [
    {
     "data": {
      "text/plain": [
       "(6463, 16)"
      ]
     },
     "execution_count": 20,
     "metadata": {},
     "output_type": "execute_result"
    }
   ],
   "source": [
    "data.shape"
   ]
  },
  {
   "cell_type": "markdown",
   "metadata": {},
   "source": [
    "### 🧪 Run the following cell to save your results"
   ]
  },
  {
   "cell_type": "code",
   "execution_count": 21,
   "metadata": {
    "ExecuteTime": {
     "end_time": "2021-06-30T09:04:17.872859Z",
     "start_time": "2021-06-30T09:04:17.865550Z"
    }
   },
   "outputs": [],
   "source": [
    "from nbresult import ChallengeResult\n",
    "\n",
    "result = ChallengeResult(\n",
    "    \"data_cleaning\",\n",
    "    columns=data.columns,\n",
    "    cleaning=sum(data.isnull().sum()),\n",
    "    shape=data.shape)\n",
    "result.write()"
   ]
  },
  {
   "cell_type": "markdown",
   "metadata": {},
   "source": [
    "## Baseline model"
   ]
  },
  {
   "cell_type": "markdown",
   "metadata": {},
   "source": [
    "### The metric"
   ]
  },
  {
   "cell_type": "markdown",
   "metadata": {},
   "source": [
    "📝 **We want to predict `popularity`: Start by plotting a histogram of the target to visualize it**"
   ]
  },
  {
   "cell_type": "markdown",
   "metadata": {},
   "source": [
    "📝 **Which sklearn's scoring [metric](https://scikit-learn.org/stable/modules/model_evaluation.html) should we use if we want it to:**\n",
    "\n",
    "- Be better when greater (i.e. metric_good_model > metric_bad_model)\n",
    "- Penalize **more** an error between 10 and 20 compared with an error between 110 and 120\n",
    "- Said otherwise, what matter should be the **relative error ratio**, more than the absolute error difference\n",
    "\n",
    "Hint: the histogram plotted above should give you some intuition about it\n",
    "\n",
    "👉 Store its exact [sklearn scoring name](https://scikit-learn.org/stable/modules/model_evaluation.html) as `string` in the variable `scoring` below.\n",
    "\n",
    "🚨 You must use this metric for the rest of the challenge"
   ]
  },
  {
   "cell_type": "code",
   "execution_count": 28,
   "metadata": {
    "ExecuteTime": {
     "end_time": "2021-06-30T09:11:50.932213Z",
     "start_time": "2021-06-30T09:11:50.702114Z"
    },
    "scrolled": true,
    "slideshow": {
     "slide_type": "notes"
    },
    "tags": [
     "challengify"
    ]
   },
   "outputs": [
    {
     "data": {
      "image/png": "[encoded data removed]",
      "text/plain": [
       "<Figure size 432x288 with 1 Axes>"
      ]
     },
     "metadata": {
      "needs_background": "light"
     },
     "output_type": "display_data"
    }
   ],
   "source": [
    "plt.hist(data.popularity, bins=200);"
   ]
  },
  {
   "cell_type": "code",
   "execution_count": 34,
   "metadata": {
    "ExecuteTime": {
     "end_time": "2021-06-30T09:20:00.366610Z",
     "start_time": "2021-06-30T09:20:00.363109Z"
    }
   },
   "outputs": [],
   "source": [
    "# we want to look at mae, but with a ratio approach, on top we want higher the better, so negative\n",
    "scoring = 'neg_mean_absolute_percentage_error'"
   ]
  },
  {
   "cell_type": "markdown",
   "metadata": {},
   "source": [
    "<details>\n",
    "    <summary>💡 Hint</summary>\n",
    "It is around here!\n",
    "<img src=\"scores.jpg\" width=200 height=400 />\n",
    "</details>"
   ]
  },
  {
   "cell_type": "markdown",
   "metadata": {},
   "source": [
    "### X,y"
   ]
  },
  {
   "cell_type": "markdown",
   "metadata": {},
   "source": [
    "**📝 Define `X` as the features Dataframe (keep all features) and `y` as the target Series.**"
   ]
  },
  {
   "cell_type": "code",
   "execution_count": 35,
   "metadata": {
    "ExecuteTime": {
     "end_time": "2021-06-30T09:20:58.665470Z",
     "start_time": "2021-06-30T09:20:58.658862Z"
    },
    "tags": [
     "challengify"
    ]
   },
   "outputs": [
    {
     "data": {
      "text/plain": [
       "((6463, 15), (6463,))"
      ]
     },
     "execution_count": 35,
     "metadata": {},
     "output_type": "execute_result"
    }
   ],
   "source": [
    "X = data.drop(columns='popularity')\n",
    "y = data.popularity\n",
    "X.shape, y.shape"
   ]
  },
  {
   "cell_type": "markdown",
   "metadata": {},
   "source": [
    "### Basic pipeline"
   ]
  },
  {
   "cell_type": "markdown",
   "metadata": {},
   "source": [
    "📝 **Check unique values per features**"
   ]
  },
  {
   "cell_type": "code",
   "execution_count": 44,
   "metadata": {
    "ExecuteTime": {
     "end_time": "2021-06-30T09:24:17.748009Z",
     "start_time": "2021-06-30T09:24:17.728788Z"
    },
    "tags": [
     "challengify"
    ]
   },
   "outputs": [
    {
     "name": "stdout",
     "output_type": "stream",
     "text": [
      "original_title has 6350 unique values\n",
      "title has 6337 unique values\n",
      "release_date has 4320 unique values\n",
      "duration_min has 152 unique values\n",
      "description has 6449 unique values\n",
      "budget has 636 unique values\n",
      "original_language has 42 unique values\n",
      "status has 3 unique values\n",
      "number_of_awards_won has 124 unique values\n",
      "number_of_nominations has 180 unique values\n",
      "has_collection has 2 unique values\n",
      "all_genres has 745 unique values\n",
      "top_countries has 320 unique values\n",
      "number_of_top_productions has 5 unique values\n",
      "available_in_english has 2 unique values\n"
     ]
    }
   ],
   "source": [
    "for col in X.columns :\n",
    "    unique = X[col].nunique()\n",
    "    print(f'{col} has {unique} unique values')"
   ]
  },
  {
   "cell_type": "markdown",
   "metadata": {},
   "source": [
    "In this baseline, let's forget about the columns below that are difficult to process"
   ]
  },
  {
   "cell_type": "code",
   "execution_count": 45,
   "metadata": {
    "ExecuteTime": {
     "end_time": "2021-06-30T09:24:38.763289Z",
     "start_time": "2021-06-30T09:24:38.760042Z"
    }
   },
   "outputs": [],
   "source": [
    "text = ['description', 'original_title', 'title']\n",
    "dates = ['release_date'] "
   ]
  },
  {
   "cell_type": "markdown",
   "metadata": {},
   "source": [
    "We will simply scale the numerical features and one-hot-encode the categorical ones remaining\n",
    "\n",
    "📝 **Prepare 2 `list`s of features names as `str`**:\n",
    "- `numerical` which contains **only** numerical features\n",
    "- `categorical` which contains **only** categorical features (exept text and dates above)"
   ]
  },
  {
   "cell_type": "code",
   "execution_count": 59,
   "metadata": {
    "ExecuteTime": {
     "end_time": "2021-06-30T09:39:06.920089Z",
     "start_time": "2021-06-30T09:39:06.911902Z"
    },
    "tags": [
     "challengify"
    ]
   },
   "outputs": [
    {
     "data": {
      "text/plain": [
       "['original_language', 'status', 'all_genres', 'top_countries']"
      ]
     },
     "execution_count": 59,
     "metadata": {},
     "output_type": "execute_result"
    }
   ],
   "source": [
    "#categorical columns names\n",
    "col_object = X.select_dtypes(include='object').columns\n",
    "categorical = [col for col in col_object if col not in dates + text]\n",
    "categorical"
   ]
  },
  {
   "cell_type": "code",
   "execution_count": 60,
   "metadata": {
    "ExecuteTime": {
     "end_time": "2021-06-30T09:39:11.963371Z",
     "start_time": "2021-06-30T09:39:11.956958Z"
    }
   },
   "outputs": [
    {
     "data": {
      "text/plain": [
       "['duration_min',\n",
       " 'budget',\n",
       " 'number_of_awards_won',\n",
       " 'number_of_nominations',\n",
       " 'has_collection',\n",
       " 'number_of_top_productions']"
      ]
     },
     "execution_count": 60,
     "metadata": {},
     "output_type": "execute_result"
    }
   ],
   "source": [
    "numerical = list(X.select_dtypes(exclude=['object', 'bool']).columns)\n",
    "numerical"
   ]
  },
  {
   "cell_type": "markdown",
   "metadata": {},
   "source": [
    "### Pipelining\n",
    "\n",
    "You are going to build a basic pipeline made of a basic preprocessing and a trees-based model of your choice."
   ]
  },
  {
   "cell_type": "markdown",
   "metadata": {},
   "source": [
    "#### Preprocessing pipeline\n",
    "\n",
    "**📝 Create a basic preprocessing pipeline for the 2 types of features above:**\n",
    "- It should scale the `numerical` features\n",
    "- one-hot-encode the `categorical` and `boolean` features\n",
    "- drop the others\n",
    "- Store your pipeline in a `basic_preprocessing` variable"
   ]
  },
  {
   "cell_type": "code",
   "execution_count": 56,
   "metadata": {
    "ExecuteTime": {
     "end_time": "2021-06-30T09:36:15.399745Z",
     "start_time": "2021-06-30T09:36:15.396821Z"
    }
   },
   "outputs": [],
   "source": [
    "# Execute this cell to enable a nice display for your pipelines\n",
    "from sklearn import set_config; set_config(display='diagram')"
   ]
  },
  {
   "cell_type": "code",
   "execution_count": 61,
   "metadata": {
    "ExecuteTime": {
     "end_time": "2021-06-30T09:39:40.625564Z",
     "start_time": "2021-06-30T09:39:38.971015Z"
    },
    "scrolled": true,
    "tags": [
     "challengify"
    ]
   },
   "outputs": [
    {
     "data": {
      "image/png": "[encoded data removed]",
      "text/plain": [
       "<Figure size 1080x504 with 2 Axes>"
      ]
     },
     "metadata": {
      "needs_background": "light"
     },
     "output_type": "display_data"
    },
    {
     "data": {
      "image/png": "[encoded data removed]",
      "text/plain": [
       "<Figure size 1080x504 with 2 Axes>"
      ]
     },
     "metadata": {
      "needs_background": "light"
     },
     "output_type": "display_data"
    },
    {
     "data": {
      "image/png": "[encoded data removed]",
      "text/plain": [
       "<Figure size 1080x504 with 2 Axes>"
      ]
     },
     "metadata": {
      "needs_background": "light"
     },
     "output_type": "display_data"
    },
    {
     "data": {
      "image/png": "[encoded data removed]",
      "text/plain": [
       "<Figure size 1080x504 with 2 Axes>"
      ]
     },
     "metadata": {
      "needs_background": "light"
     },
     "output_type": "display_data"
    },
    {
     "data": {
      "image/png": "[encoded data removed]",
      "text/plain": [
       "<Figure size 1080x504 with 2 Axes>"
      ]
     },
     "metadata": {
      "needs_background": "light"
     },
     "output_type": "display_data"
    },
    {
     "data": {
      "image/png": "[encoded data removed]",
      "text/plain": [
       "<Figure size 1080x504 with 2 Axes>"
      ]
     },
     "metadata": {
      "needs_background": "light"
     },
     "output_type": "display_data"
    }
   ],
   "source": [
    "#let s look at the numerical data\n",
    "for col in numerical:\n",
    "    fig, ax = plt.subplots(1,2, figsize=(15,7))\n",
    "    sns.histplot(data=X, x=X[col], ax=ax[0])\n",
    "    sns.boxplot(data=X, x=X[col], ax=ax[1])\n",
    "plt.show()"
   ]
  },
  {
   "cell_type": "code",
   "execution_count": 63,
   "metadata": {
    "ExecuteTime": {
     "end_time": "2021-06-30T09:43:47.475819Z",
     "start_time": "2021-06-30T09:43:47.472087Z"
    }
   },
   "outputs": [],
   "source": [
    "#we should use a robust scaler as most of the distribution are far from being normal with a lot of outliers\n",
    "from sklearn.preprocessing import RobustScaler\n",
    "from sklearn.pipeline import Pipeline\n",
    "numerical_proc = Pipeline([\n",
    "    ('scale', RobustScaler())\n",
    "])"
   ]
  },
  {
   "cell_type": "code",
   "execution_count": 65,
   "metadata": {
    "ExecuteTime": {
     "end_time": "2021-06-30T09:51:33.428828Z",
     "start_time": "2021-06-30T09:51:33.424763Z"
    }
   },
   "outputs": [],
   "source": [
    "#let s look at categorical and boolean\n",
    "from sklearn.preprocessing import OneHotEncoder\n",
    "categorical_proc = Pipeline([\n",
    "    ('encode', OneHotEncoder(handle_unknown='ignore', sparse=False))\n",
    "])"
   ]
  },
  {
   "cell_type": "code",
   "execution_count": 96,
   "metadata": {
    "ExecuteTime": {
     "end_time": "2021-06-30T11:36:22.932430Z",
     "start_time": "2021-06-30T11:36:22.928728Z"
    }
   },
   "outputs": [],
   "source": [
    "#preprocessing with column transformer\n",
    "from sklearn.compose import ColumnTransformer\n",
    "basic_preprocessing = ColumnTransformer([\n",
    "    ('numerical_proc', numerical_proc, numerical),\n",
    "    ('categorical_proc', categorical_proc, categorical+['available_in_english'])],\n",
    "    remainder='drop'\n",
    "    )"
   ]
  },
  {
   "cell_type": "markdown",
   "metadata": {},
   "source": [
    "**📝 Encode the features and store the result in the variable `X_basic_preprocessing`.**"
   ]
  },
  {
   "cell_type": "code",
   "execution_count": 97,
   "metadata": {
    "ExecuteTime": {
     "end_time": "2021-06-30T11:36:27.320082Z",
     "start_time": "2021-06-30T11:36:27.255900Z"
    },
    "tags": [
     "challengify"
    ]
   },
   "outputs": [
    {
     "data": {
      "text/plain": [
       "(6463, 1118)"
      ]
     },
     "execution_count": 97,
     "metadata": {},
     "output_type": "execute_result"
    }
   ],
   "source": [
    "X_basic_preprocessing = basic_preprocessing.fit_transform(X)\n",
    "X_basic_preprocessing.shape"
   ]
  },
  {
   "cell_type": "markdown",
   "metadata": {},
   "source": [
    "**❓ How many features has been generated by the preprocessing? What do you think about this number?**"
   ]
  },
  {
   "cell_type": "markdown",
   "metadata": {
    "tags": [
     "challengify"
    ]
   },
   "source": [
    "More than 1000 feartures has been created. Compared with the number of rows, we are likely to have difficulties in training our model efficiently"
   ]
  },
  {
   "cell_type": "markdown",
   "metadata": {},
   "source": [
    "#### Modeling pipeline\n",
    "\n",
    "Let's add a model to our pipe. With so many features one-hot-encoded, we **need a model which can act as a feature selector**\n",
    "\n",
    "👉 A linear model regularized with L1 penalty is a good starting point.\n",
    "\n",
    "\n",
    "**📝 Create a `basic_pipeline` which encapsulate the `basic_preprocessing` pipeline + a linear model with a L1 penalty**\n",
    "\n",
    "- store the resulting pipeline as `basic_pipeline`\n",
    "- don't fine-tune it\n",
    "\n",
    "\n",
    "<details>\n",
    "    <summary>Hints</summary>\n",
    "\n",
    "Choose your model from the list [here](https://scikit-learn.org/stable/modules/classes.html#module-sklearn.linear_model)\n",
    "\n",
    "</details>"
   ]
  },
  {
   "cell_type": "code",
   "execution_count": 98,
   "metadata": {
    "ExecuteTime": {
     "end_time": "2021-06-30T11:36:32.681368Z",
     "start_time": "2021-06-30T11:36:32.678924Z"
    },
    "tags": [
     "challengify"
    ]
   },
   "outputs": [],
   "source": [
    "# We will use linear regression with L1 regularisation, aka Lasso model\n",
    "from sklearn.linear_model import Lasso\n",
    "basic_pipeline = Pipeline([\n",
    "    ('preproc', basic_preprocessing),\n",
    "    ('model', Lasso())\n",
    "    \n",
    "])"
   ]
  },
  {
   "cell_type": "markdown",
   "metadata": {},
   "source": [
    "### Cross-validated baseline\n",
    "\n",
    "**📝 Perform a cross-validated evaluation of your baseline model using the metric you defined above. Store the results of this evaluation as an `array` of floating scores in the `basic_scores` variable.**"
   ]
  },
  {
   "cell_type": "code",
   "execution_count": 117,
   "metadata": {
    "ExecuteTime": {
     "end_time": "2021-06-30T11:46:38.359232Z",
     "start_time": "2021-06-30T11:46:37.487479Z"
    },
    "scrolled": false,
    "tags": [
     "challengify"
    ]
   },
   "outputs": [],
   "source": [
    "#let use cross val from sklearn with 5 folds\n",
    "from sklearn.model_selection import cross_val_score\n",
    "basic_scores = cross_val_score(basic_pipeline, X, y, cv=5, scoring=scoring)"
   ]
  },
  {
   "cell_type": "code",
   "execution_count": 118,
   "metadata": {
    "ExecuteTime": {
     "end_time": "2021-06-30T11:46:38.381974Z",
     "start_time": "2021-06-30T11:46:38.371958Z"
    }
   },
   "outputs": [
    {
     "data": {
      "text/plain": [
       "array([-0.83501648, -0.96666569, -0.91112822, -0.90045368, -0.90539316])"
      ]
     },
     "execution_count": 118,
     "metadata": {},
     "output_type": "execute_result"
    }
   ],
   "source": [
    "basic_scores"
   ]
  },
  {
   "cell_type": "markdown",
   "metadata": {},
   "source": [
    "### 🧪 Save your results\n",
    "\n",
    "Run the following cell to save your results"
   ]
  },
  {
   "cell_type": "code",
   "execution_count": 101,
   "metadata": {
    "ExecuteTime": {
     "end_time": "2021-06-30T11:36:38.029208Z",
     "start_time": "2021-06-30T11:36:38.023962Z"
    }
   },
   "outputs": [],
   "source": [
    "ChallengeResult(\n",
    "    'baseline',\n",
    "    metric=scoring,\n",
    "    features=[categorical,numerical],\n",
    "    preproc=basic_preprocessing,\n",
    "    preproc_shape=X_basic_preprocessing.shape,\n",
    "    pipe=basic_pipeline,\n",
    "    scores=basic_scores\n",
    ").write()"
   ]
  },
  {
   "cell_type": "markdown",
   "metadata": {},
   "source": [
    "## Feature engineering"
   ]
  },
  {
   "cell_type": "markdown",
   "metadata": {},
   "source": [
    "### Time Features\n",
    "\n",
    "\n",
    "👉 Let's try to improve performance using the feature `release_date`, and especially its `month` and `year`.\n",
    "\n",
    "ℹ️ If you want to skip this section, you can move directly to the next one: _Advanced categorical features_."
   ]
  },
  {
   "cell_type": "markdown",
   "metadata": {},
   "source": [
    "**📝 Complete the custom transformer `TimeFeaturesExtractor` below**\n",
    "\n",
    "Running\n",
    "```python\n",
    "TimeFeaturesExtractor().fit_transform(X[['release_date']])\n",
    "``` \n",
    "should return something like\n",
    "\n",
    "|    |   month |   year |\n",
    "|---:|--------:|-------:|\n",
    "|  0 |       2 |   2015 |\n",
    "|  1 |       8 |   2004 |\n",
    "|  2 |      10 |   2014 |\n",
    "|  3 |       3 |   2012 |\n",
    "|  4 |       8 |   2012 |\n"
   ]
  },
  {
   "cell_type": "code",
   "execution_count": 88,
   "metadata": {
    "ExecuteTime": {
     "end_time": "2021-06-30T10:17:49.804767Z",
     "start_time": "2021-06-30T10:17:49.798819Z"
    }
   },
   "outputs": [],
   "source": [
    "from sklearn.base import BaseEstimator, TransformerMixin\n",
    "\n",
    "class TimeFeaturesExtractor(BaseEstimator, TransformerMixin):\n",
    "    \"\"\"Extract the 2 time features from a date\"\"\"\n",
    "    \n",
    "    def fit(self, X, y=None):\n",
    "        return self\n",
    "    \n",
    "    def transform(self, X, y=None):\n",
    "        \"\"\"\n",
    "        Params:\n",
    "        X: DataFrame\n",
    "        y: Series\n",
    "        \n",
    "        Returns a DataFrame with 2 columns containing the time features as integers extracted from the release_date.\n",
    "        \"\"\"\n",
    "        output = pd.DataFrame()\n",
    "        output['month'] = pd.to_datetime(X.release_date,format='%Y-%m').dt.month\n",
    "        output['year'] = pd.to_datetime(X.release_date,format='%Y-%m').dt.year\n",
    "        return output"
   ]
  },
  {
   "cell_type": "code",
   "execution_count": 89,
   "metadata": {
    "ExecuteTime": {
     "end_time": "2021-06-30T10:17:50.137309Z",
     "start_time": "2021-06-30T10:17:50.122968Z"
    }
   },
   "outputs": [
    {
     "data": {
      "text/html": [
       "<div>\n",
       "<style scoped>\n",
       "    .dataframe tbody tr th:only-of-type {\n",
       "        vertical-align: middle;\n",
       "    }\n",
       "\n",
       "    .dataframe tbody tr th {\n",
       "        vertical-align: top;\n",
       "    }\n",
       "\n",
       "    .dataframe thead th {\n",
       "        text-align: right;\n",
       "    }\n",
       "</style>\n",
       "<table border=\"1\" class=\"dataframe\">\n",
       "  <thead>\n",
       "    <tr style=\"text-align: right;\">\n",
       "      <th></th>\n",
       "      <th>month</th>\n",
       "      <th>year</th>\n",
       "    </tr>\n",
       "  </thead>\n",
       "  <tbody>\n",
       "    <tr>\n",
       "      <th>0</th>\n",
       "      <td>2</td>\n",
       "      <td>2015</td>\n",
       "    </tr>\n",
       "    <tr>\n",
       "      <th>1</th>\n",
       "      <td>8</td>\n",
       "      <td>2004</td>\n",
       "    </tr>\n",
       "    <tr>\n",
       "      <th>2</th>\n",
       "      <td>10</td>\n",
       "      <td>2014</td>\n",
       "    </tr>\n",
       "    <tr>\n",
       "      <th>3</th>\n",
       "      <td>3</td>\n",
       "      <td>2012</td>\n",
       "    </tr>\n",
       "    <tr>\n",
       "      <th>4</th>\n",
       "      <td>8</td>\n",
       "      <td>2012</td>\n",
       "    </tr>\n",
       "  </tbody>\n",
       "</table>\n",
       "</div>"
      ],
      "text/plain": [
       "   month  year\n",
       "0      2  2015\n",
       "1      8  2004\n",
       "2     10  2014\n",
       "3      3  2012\n",
       "4      8  2012"
      ]
     },
     "execution_count": 89,
     "metadata": {},
     "output_type": "execute_result"
    }
   ],
   "source": [
    "# Try your transformer and save your new features here\n",
    "X_time_features = TimeFeaturesExtractor().fit_transform(X[['release_date']])\n",
    "X_time_features.head()"
   ]
  },
  {
   "cell_type": "markdown",
   "metadata": {},
   "source": [
    "We still have 2 problems to solve\n",
    "- `month` is cyclical: 12 should be a close to 1 as to 11, right? \n",
    "- `year` is not scaled\n",
    "\n",
    "**📝 Build a final custom transformer `CyclicalEncoder` so that**\n",
    "\n",
    "Running\n",
    "```python\n",
    "CyclicalEncoder().fit_transform(X_time_features)\n",
    "``` \n",
    "should return something like this\n",
    "\n",
    "|    |    month_cos |   month_sin |      year |\n",
    "|---:|-------------:|------------:|----------:|\n",
    "|  0 |  0.5         |    0.866025 | 0.0466039 |\n",
    "|  1 | -0.5         |   -0.866025 | 0.0411502 |\n",
    "|  2 |  0.5         |   -0.866025 | 0.0461081 |\n",
    "|  3 |  6.12323e-17 |    1        | 0.0451165 |\n",
    "|  4 | -0.5         |   -0.866025 | 0.0451165 |\n",
    "\n",
    "With the cyclical encoding is done as below\n",
    "- `month_cos = 2 * math.pi / 12 * X[['month']] `\n",
    "- `month_sin = 2 * math.pi / 12 * X[['month']] `\n",
    "\n",
    "And the `year` begin min-max scaled"
   ]
  },
  {
   "cell_type": "code",
   "execution_count": 93,
   "metadata": {
    "ExecuteTime": {
     "end_time": "2021-06-30T11:34:12.970574Z",
     "start_time": "2021-06-30T11:34:12.965713Z"
    }
   },
   "outputs": [],
   "source": [
    "from sklearn.base import BaseEstimator, TransformerMixin\n",
    "import math\n",
    "\n",
    "class CyclicalEncoder(BaseEstimator, TransformerMixin):\n",
    "    \"\"\"\n",
    "    Encode a cyclical feature\n",
    "    \"\"\"\n",
    "    \n",
    "\n",
    "    def __init__(self):\n",
    "        self.year_min = 1800\n",
    "        self.year_max = 2100\n",
    "\n",
    "    def fit(self, X, y=None):\n",
    "        \"\"\"\n",
    "        Compute here what you need for the transform phase and store it as instance variable\n",
    "        \"\"\"\n",
    "        self.year_min = np.min(X.year)\n",
    "        self.year_max = np.max(X.year)\n",
    "        return self\n",
    "\n",
    "    def transform(self, X, y=None):\n",
    "        \"\"\"\n",
    "        Compute and returns the final DataFrame\n",
    "        \"\"\"\n",
    "        output = pd.DataFrame()\n",
    "        output['year'] = (X.year-self.year_min)/(self.year_max-self.year_min)\n",
    "        output['month_cos'] = np.cos(2 * math.pi / 12 * X[['month']])\n",
    "        output['month_sin'] = np.sin(2 * math.pi / 12 * X[['month']])\n",
    "        return output"
   ]
  },
  {
   "cell_type": "code",
   "execution_count": 94,
   "metadata": {
    "ExecuteTime": {
     "end_time": "2021-06-30T11:34:14.309298Z",
     "start_time": "2021-06-30T11:34:14.298077Z"
    }
   },
   "outputs": [
    {
     "data": {
      "text/html": [
       "<div>\n",
       "<style scoped>\n",
       "    .dataframe tbody tr th:only-of-type {\n",
       "        vertical-align: middle;\n",
       "    }\n",
       "\n",
       "    .dataframe tbody tr th {\n",
       "        vertical-align: top;\n",
       "    }\n",
       "\n",
       "    .dataframe thead th {\n",
       "        text-align: right;\n",
       "    }\n",
       "</style>\n",
       "<table border=\"1\" class=\"dataframe\">\n",
       "  <thead>\n",
       "    <tr style=\"text-align: right;\">\n",
       "      <th></th>\n",
       "      <th>year</th>\n",
       "      <th>month_cos</th>\n",
       "      <th>month_sin</th>\n",
       "    </tr>\n",
       "  </thead>\n",
       "  <tbody>\n",
       "    <tr>\n",
       "      <th>0</th>\n",
       "      <td>0.979167</td>\n",
       "      <td>5.000000e-01</td>\n",
       "      <td>0.866025</td>\n",
       "    </tr>\n",
       "    <tr>\n",
       "      <th>1</th>\n",
       "      <td>0.864583</td>\n",
       "      <td>-5.000000e-01</td>\n",
       "      <td>-0.866025</td>\n",
       "    </tr>\n",
       "    <tr>\n",
       "      <th>2</th>\n",
       "      <td>0.968750</td>\n",
       "      <td>5.000000e-01</td>\n",
       "      <td>-0.866025</td>\n",
       "    </tr>\n",
       "    <tr>\n",
       "      <th>3</th>\n",
       "      <td>0.947917</td>\n",
       "      <td>6.123234e-17</td>\n",
       "      <td>1.000000</td>\n",
       "    </tr>\n",
       "    <tr>\n",
       "      <th>4</th>\n",
       "      <td>0.947917</td>\n",
       "      <td>-5.000000e-01</td>\n",
       "      <td>-0.866025</td>\n",
       "    </tr>\n",
       "  </tbody>\n",
       "</table>\n",
       "</div>"
      ],
      "text/plain": [
       "       year     month_cos  month_sin\n",
       "0  0.979167  5.000000e-01   0.866025\n",
       "1  0.864583 -5.000000e-01  -0.866025\n",
       "2  0.968750  5.000000e-01  -0.866025\n",
       "3  0.947917  6.123234e-17   1.000000\n",
       "4  0.947917 -5.000000e-01  -0.866025"
      ]
     },
     "execution_count": 94,
     "metadata": {},
     "output_type": "execute_result"
    }
   ],
   "source": [
    "# Try your transformer and save your new features here\n",
    "X_time_cyclical = CyclicalEncoder().fit_transform(X_time_features)\n",
    "X_time_cyclical.head()"
   ]
  },
  {
   "cell_type": "code",
   "execution_count": 95,
   "metadata": {
    "ExecuteTime": {
     "end_time": "2021-06-30T11:34:33.444812Z",
     "start_time": "2021-06-30T11:34:33.353616Z"
    }
   },
   "outputs": [
    {
     "data": {
      "image/png": "[encoded data removed]",
      "text/plain": [
       "<Figure size 432x288 with 1 Axes>"
      ]
     },
     "metadata": {
      "needs_background": "light"
     },
     "output_type": "display_data"
    }
   ],
   "source": [
    "# Check that this form a circle with 12 points\n",
    "plt.scatter(X_time_cyclical['month_cos'],\n",
    "            X_time_cyclical['month_sin'])\n",
    "plt.xlabel(\"month_cos\"); plt.ylabel(\"month_sin\");"
   ]
  },
  {
   "cell_type": "markdown",
   "metadata": {},
   "source": [
    "**📝 Enhance your `basic_pipeline` with a new preprocessing including both `TimeFeaturesExtractor` and `CyclicalFeatureExtractor`:**\n",
    "\n",
    "- Just use `TimeFeatureExtractor` if you haven't had time to do the `Cyclical` one\n",
    "- Store this new pipeline as `time_pipeline`\n",
    "- Keep same estimator for now"
   ]
  },
  {
   "cell_type": "code",
   "execution_count": 107,
   "metadata": {
    "ExecuteTime": {
     "end_time": "2021-06-30T11:43:23.000706Z",
     "start_time": "2021-06-30T11:43:22.998089Z"
    },
    "tags": [
     "challengify"
    ]
   },
   "outputs": [],
   "source": [
    "time_proc = Pipeline([\n",
    "    ('time_feature', TimeFeaturesExtractor()),\n",
    "    ('cyclical', CyclicalEncoder())\n",
    "])\n",
    "time_preprocessing = ColumnTransformer([\n",
    "    ('numerical_proc', numerical_proc, numerical),\n",
    "    ('categorical_proc', categorical_proc, categorical+['available_in_english']),\n",
    "    ('time_proc', time_proc, ['release_date'])\n",
    "    ],\n",
    "    remainder='drop'\n",
    "    )\n",
    "time_pipeline = Pipeline([\n",
    "    ('preproc', time_preprocessing),\n",
    "    ('model', Lasso())\n",
    "    \n",
    "])"
   ]
  },
  {
   "cell_type": "code",
   "execution_count": 112,
   "metadata": {
    "ExecuteTime": {
     "end_time": "2021-06-30T11:44:33.357891Z",
     "start_time": "2021-06-30T11:44:33.277329Z"
    }
   },
   "outputs": [
    {
     "data": {
      "text/html": [
       "<div>\n",
       "<style scoped>\n",
       "    .dataframe tbody tr th:only-of-type {\n",
       "        vertical-align: middle;\n",
       "    }\n",
       "\n",
       "    .dataframe tbody tr th {\n",
       "        vertical-align: top;\n",
       "    }\n",
       "\n",
       "    .dataframe thead th {\n",
       "        text-align: right;\n",
       "    }\n",
       "</style>\n",
       "<table border=\"1\" class=\"dataframe\">\n",
       "  <thead>\n",
       "    <tr style=\"text-align: right;\">\n",
       "      <th></th>\n",
       "      <th>0</th>\n",
       "      <th>1</th>\n",
       "      <th>2</th>\n",
       "      <th>3</th>\n",
       "      <th>4</th>\n",
       "      <th>5</th>\n",
       "      <th>6</th>\n",
       "      <th>7</th>\n",
       "      <th>8</th>\n",
       "      <th>9</th>\n",
       "      <th>...</th>\n",
       "      <th>1111</th>\n",
       "      <th>1112</th>\n",
       "      <th>1113</th>\n",
       "      <th>1114</th>\n",
       "      <th>1115</th>\n",
       "      <th>1116</th>\n",
       "      <th>1117</th>\n",
       "      <th>1118</th>\n",
       "      <th>1119</th>\n",
       "      <th>1120</th>\n",
       "    </tr>\n",
       "  </thead>\n",
       "  <tbody>\n",
       "    <tr>\n",
       "      <th>0</th>\n",
       "      <td>-0.500000</td>\n",
       "      <td>0.093684</td>\n",
       "      <td>-0.333333</td>\n",
       "      <td>-0.250000</td>\n",
       "      <td>1.0</td>\n",
       "      <td>2.0</td>\n",
       "      <td>0.0</td>\n",
       "      <td>0.0</td>\n",
       "      <td>0.0</td>\n",
       "      <td>0.0</td>\n",
       "      <td>...</td>\n",
       "      <td>0.0</td>\n",
       "      <td>0.0</td>\n",
       "      <td>0.0</td>\n",
       "      <td>1.0</td>\n",
       "      <td>0.0</td>\n",
       "      <td>0.0</td>\n",
       "      <td>1.0</td>\n",
       "      <td>0.979167</td>\n",
       "      <td>5.000000e-01</td>\n",
       "      <td>8.660254e-01</td>\n",
       "    </tr>\n",
       "    <tr>\n",
       "      <th>1</th>\n",
       "      <td>0.333333</td>\n",
       "      <td>0.905609</td>\n",
       "      <td>-0.166667</td>\n",
       "      <td>-0.250000</td>\n",
       "      <td>1.0</td>\n",
       "      <td>0.0</td>\n",
       "      <td>0.0</td>\n",
       "      <td>0.0</td>\n",
       "      <td>0.0</td>\n",
       "      <td>0.0</td>\n",
       "      <td>...</td>\n",
       "      <td>0.0</td>\n",
       "      <td>0.0</td>\n",
       "      <td>0.0</td>\n",
       "      <td>1.0</td>\n",
       "      <td>0.0</td>\n",
       "      <td>0.0</td>\n",
       "      <td>1.0</td>\n",
       "      <td>0.864583</td>\n",
       "      <td>-5.000000e-01</td>\n",
       "      <td>-8.660254e-01</td>\n",
       "    </tr>\n",
       "    <tr>\n",
       "      <th>2</th>\n",
       "      <td>0.000000</td>\n",
       "      <td>-0.240455</td>\n",
       "      <td>15.833333</td>\n",
       "      <td>11.666667</td>\n",
       "      <td>0.0</td>\n",
       "      <td>-1.0</td>\n",
       "      <td>0.0</td>\n",
       "      <td>0.0</td>\n",
       "      <td>0.0</td>\n",
       "      <td>0.0</td>\n",
       "      <td>...</td>\n",
       "      <td>0.0</td>\n",
       "      <td>0.0</td>\n",
       "      <td>0.0</td>\n",
       "      <td>1.0</td>\n",
       "      <td>0.0</td>\n",
       "      <td>0.0</td>\n",
       "      <td>1.0</td>\n",
       "      <td>0.968750</td>\n",
       "      <td>5.000000e-01</td>\n",
       "      <td>-8.660254e-01</td>\n",
       "    </tr>\n",
       "    <tr>\n",
       "      <th>3</th>\n",
       "      <td>0.708333</td>\n",
       "      <td>-0.306033</td>\n",
       "      <td>3.500000</td>\n",
       "      <td>1.083333</td>\n",
       "      <td>0.0</td>\n",
       "      <td>-1.0</td>\n",
       "      <td>0.0</td>\n",
       "      <td>0.0</td>\n",
       "      <td>0.0</td>\n",
       "      <td>0.0</td>\n",
       "      <td>...</td>\n",
       "      <td>0.0</td>\n",
       "      <td>0.0</td>\n",
       "      <td>0.0</td>\n",
       "      <td>0.0</td>\n",
       "      <td>0.0</td>\n",
       "      <td>0.0</td>\n",
       "      <td>1.0</td>\n",
       "      <td>0.947917</td>\n",
       "      <td>6.123234e-17</td>\n",
       "      <td>1.000000e+00</td>\n",
       "    </tr>\n",
       "    <tr>\n",
       "      <th>4</th>\n",
       "      <td>-0.541667</td>\n",
       "      <td>0.093684</td>\n",
       "      <td>-0.333333</td>\n",
       "      <td>0.083333</td>\n",
       "      <td>0.0</td>\n",
       "      <td>-1.0</td>\n",
       "      <td>0.0</td>\n",
       "      <td>0.0</td>\n",
       "      <td>0.0</td>\n",
       "      <td>0.0</td>\n",
       "      <td>...</td>\n",
       "      <td>0.0</td>\n",
       "      <td>0.0</td>\n",
       "      <td>0.0</td>\n",
       "      <td>0.0</td>\n",
       "      <td>0.0</td>\n",
       "      <td>0.0</td>\n",
       "      <td>1.0</td>\n",
       "      <td>0.947917</td>\n",
       "      <td>-5.000000e-01</td>\n",
       "      <td>-8.660254e-01</td>\n",
       "    </tr>\n",
       "    <tr>\n",
       "      <th>...</th>\n",
       "      <td>...</td>\n",
       "      <td>...</td>\n",
       "      <td>...</td>\n",
       "      <td>...</td>\n",
       "      <td>...</td>\n",
       "      <td>...</td>\n",
       "      <td>...</td>\n",
       "      <td>...</td>\n",
       "      <td>...</td>\n",
       "      <td>...</td>\n",
       "      <td>...</td>\n",
       "      <td>...</td>\n",
       "      <td>...</td>\n",
       "      <td>...</td>\n",
       "      <td>...</td>\n",
       "      <td>...</td>\n",
       "      <td>...</td>\n",
       "      <td>...</td>\n",
       "      <td>...</td>\n",
       "      <td>...</td>\n",
       "      <td>...</td>\n",
       "    </tr>\n",
       "    <tr>\n",
       "      <th>6458</th>\n",
       "      <td>0.541667</td>\n",
       "      <td>0.968065</td>\n",
       "      <td>-0.333333</td>\n",
       "      <td>-0.250000</td>\n",
       "      <td>0.0</td>\n",
       "      <td>0.0</td>\n",
       "      <td>0.0</td>\n",
       "      <td>0.0</td>\n",
       "      <td>0.0</td>\n",
       "      <td>0.0</td>\n",
       "      <td>...</td>\n",
       "      <td>0.0</td>\n",
       "      <td>0.0</td>\n",
       "      <td>0.0</td>\n",
       "      <td>0.0</td>\n",
       "      <td>0.0</td>\n",
       "      <td>0.0</td>\n",
       "      <td>1.0</td>\n",
       "      <td>0.833333</td>\n",
       "      <td>-5.000000e-01</td>\n",
       "      <td>-8.660254e-01</td>\n",
       "    </tr>\n",
       "    <tr>\n",
       "      <th>6459</th>\n",
       "      <td>-0.416667</td>\n",
       "      <td>0.249823</td>\n",
       "      <td>-0.333333</td>\n",
       "      <td>-0.416667</td>\n",
       "      <td>1.0</td>\n",
       "      <td>0.0</td>\n",
       "      <td>0.0</td>\n",
       "      <td>0.0</td>\n",
       "      <td>0.0</td>\n",
       "      <td>0.0</td>\n",
       "      <td>...</td>\n",
       "      <td>0.0</td>\n",
       "      <td>0.0</td>\n",
       "      <td>0.0</td>\n",
       "      <td>1.0</td>\n",
       "      <td>0.0</td>\n",
       "      <td>0.0</td>\n",
       "      <td>1.0</td>\n",
       "      <td>0.864583</td>\n",
       "      <td>-5.000000e-01</td>\n",
       "      <td>-8.660254e-01</td>\n",
       "    </tr>\n",
       "    <tr>\n",
       "      <th>6460</th>\n",
       "      <td>1.000000</td>\n",
       "      <td>0.156139</td>\n",
       "      <td>0.166667</td>\n",
       "      <td>0.750000</td>\n",
       "      <td>0.0</td>\n",
       "      <td>0.0</td>\n",
       "      <td>0.0</td>\n",
       "      <td>0.0</td>\n",
       "      <td>0.0</td>\n",
       "      <td>0.0</td>\n",
       "      <td>...</td>\n",
       "      <td>0.0</td>\n",
       "      <td>0.0</td>\n",
       "      <td>0.0</td>\n",
       "      <td>1.0</td>\n",
       "      <td>0.0</td>\n",
       "      <td>0.0</td>\n",
       "      <td>1.0</td>\n",
       "      <td>0.635417</td>\n",
       "      <td>1.000000e+00</td>\n",
       "      <td>-2.449294e-16</td>\n",
       "    </tr>\n",
       "    <tr>\n",
       "      <th>6461</th>\n",
       "      <td>-0.208333</td>\n",
       "      <td>-0.281051</td>\n",
       "      <td>3.833333</td>\n",
       "      <td>3.166667</td>\n",
       "      <td>0.0</td>\n",
       "      <td>-1.0</td>\n",
       "      <td>0.0</td>\n",
       "      <td>0.0</td>\n",
       "      <td>0.0</td>\n",
       "      <td>0.0</td>\n",
       "      <td>...</td>\n",
       "      <td>0.0</td>\n",
       "      <td>0.0</td>\n",
       "      <td>0.0</td>\n",
       "      <td>1.0</td>\n",
       "      <td>0.0</td>\n",
       "      <td>0.0</td>\n",
       "      <td>1.0</td>\n",
       "      <td>0.979167</td>\n",
       "      <td>5.000000e-01</td>\n",
       "      <td>8.660254e-01</td>\n",
       "    </tr>\n",
       "    <tr>\n",
       "      <th>6462</th>\n",
       "      <td>-0.833333</td>\n",
       "      <td>-0.341508</td>\n",
       "      <td>0.166667</td>\n",
       "      <td>-0.333333</td>\n",
       "      <td>0.0</td>\n",
       "      <td>-1.0</td>\n",
       "      <td>0.0</td>\n",
       "      <td>0.0</td>\n",
       "      <td>0.0</td>\n",
       "      <td>0.0</td>\n",
       "      <td>...</td>\n",
       "      <td>0.0</td>\n",
       "      <td>0.0</td>\n",
       "      <td>0.0</td>\n",
       "      <td>0.0</td>\n",
       "      <td>0.0</td>\n",
       "      <td>1.0</td>\n",
       "      <td>0.0</td>\n",
       "      <td>0.427083</td>\n",
       "      <td>-1.836970e-16</td>\n",
       "      <td>-1.000000e+00</td>\n",
       "    </tr>\n",
       "  </tbody>\n",
       "</table>\n",
       "<p>6463 rows × 1121 columns</p>\n",
       "</div>"
      ],
      "text/plain": [
       "          0         1          2          3     4     5     6     7     8     \\\n",
       "0    -0.500000  0.093684  -0.333333  -0.250000   1.0   2.0   0.0   0.0   0.0   \n",
       "1     0.333333  0.905609  -0.166667  -0.250000   1.0   0.0   0.0   0.0   0.0   \n",
       "2     0.000000 -0.240455  15.833333  11.666667   0.0  -1.0   0.0   0.0   0.0   \n",
       "3     0.708333 -0.306033   3.500000   1.083333   0.0  -1.0   0.0   0.0   0.0   \n",
       "4    -0.541667  0.093684  -0.333333   0.083333   0.0  -1.0   0.0   0.0   0.0   \n",
       "...        ...       ...        ...        ...   ...   ...   ...   ...   ...   \n",
       "6458  0.541667  0.968065  -0.333333  -0.250000   0.0   0.0   0.0   0.0   0.0   \n",
       "6459 -0.416667  0.249823  -0.333333  -0.416667   1.0   0.0   0.0   0.0   0.0   \n",
       "6460  1.000000  0.156139   0.166667   0.750000   0.0   0.0   0.0   0.0   0.0   \n",
       "6461 -0.208333 -0.281051   3.833333   3.166667   0.0  -1.0   0.0   0.0   0.0   \n",
       "6462 -0.833333 -0.341508   0.166667  -0.333333   0.0  -1.0   0.0   0.0   0.0   \n",
       "\n",
       "      9     ...  1111  1112  1113  1114  1115  1116  1117      1118  \\\n",
       "0      0.0  ...   0.0   0.0   0.0   1.0   0.0   0.0   1.0  0.979167   \n",
       "1      0.0  ...   0.0   0.0   0.0   1.0   0.0   0.0   1.0  0.864583   \n",
       "2      0.0  ...   0.0   0.0   0.0   1.0   0.0   0.0   1.0  0.968750   \n",
       "3      0.0  ...   0.0   0.0   0.0   0.0   0.0   0.0   1.0  0.947917   \n",
       "4      0.0  ...   0.0   0.0   0.0   0.0   0.0   0.0   1.0  0.947917   \n",
       "...    ...  ...   ...   ...   ...   ...   ...   ...   ...       ...   \n",
       "6458   0.0  ...   0.0   0.0   0.0   0.0   0.0   0.0   1.0  0.833333   \n",
       "6459   0.0  ...   0.0   0.0   0.0   1.0   0.0   0.0   1.0  0.864583   \n",
       "6460   0.0  ...   0.0   0.0   0.0   1.0   0.0   0.0   1.0  0.635417   \n",
       "6461   0.0  ...   0.0   0.0   0.0   1.0   0.0   0.0   1.0  0.979167   \n",
       "6462   0.0  ...   0.0   0.0   0.0   0.0   0.0   1.0   0.0  0.427083   \n",
       "\n",
       "              1119          1120  \n",
       "0     5.000000e-01  8.660254e-01  \n",
       "1    -5.000000e-01 -8.660254e-01  \n",
       "2     5.000000e-01 -8.660254e-01  \n",
       "3     6.123234e-17  1.000000e+00  \n",
       "4    -5.000000e-01 -8.660254e-01  \n",
       "...            ...           ...  \n",
       "6458 -5.000000e-01 -8.660254e-01  \n",
       "6459 -5.000000e-01 -8.660254e-01  \n",
       "6460  1.000000e+00 -2.449294e-16  \n",
       "6461  5.000000e-01  8.660254e-01  \n",
       "6462 -1.836970e-16 -1.000000e+00  \n",
       "\n",
       "[6463 rows x 1121 columns]"
      ]
     },
     "execution_count": 112,
     "metadata": {},
     "output_type": "execute_result"
    }
   ],
   "source": [
    "pd.DataFrame(time_preprocessing.fit_transform(X))"
   ]
  },
  {
   "cell_type": "markdown",
   "metadata": {},
   "source": [
    "The new columns are added"
   ]
  },
  {
   "cell_type": "code",
   "execution_count": 115,
   "metadata": {
    "ExecuteTime": {
     "end_time": "2021-06-30T11:46:25.601945Z",
     "start_time": "2021-06-30T11:46:24.677548Z"
    }
   },
   "outputs": [],
   "source": [
    "time_scores = cross_val_score(time_pipeline, X, y, cv=5, scoring=scoring)\n",
    "\n",
    "time_scores"
   ]
  },
  {
   "cell_type": "markdown",
   "metadata": {},
   "source": [
    "No change in score"
   ]
  },
  {
   "cell_type": "markdown",
   "metadata": {},
   "source": [
    "### Advanced categorical encoder to reduce the number of features\n",
    "\n",
    "ℹ️ Most of it has already been coded for you and it shouldn't take long. Still if you want to skip it and move to the next section: _Model Tuning_"
   ]
  },
  {
   "cell_type": "markdown",
   "metadata": {},
   "source": [
    "👉 We need to reduce the number of features to one-hot-encode, which arise from the high cardinality of `all_genres` and `top_countries`"
   ]
  },
  {
   "cell_type": "code",
   "execution_count": 119,
   "metadata": {
    "ExecuteTime": {
     "end_time": "2021-06-30T11:51:27.230870Z",
     "start_time": "2021-06-30T11:51:27.218740Z"
    }
   },
   "outputs": [
    {
     "data": {
      "text/plain": [
       "all_genres       745\n",
       "top_countries    320\n",
       "dtype: int64"
      ]
     },
     "execution_count": 119,
     "metadata": {},
     "output_type": "execute_result"
    }
   ],
   "source": [
    "X[['all_genres', 'top_countries']].nunique()"
   ]
  },
  {
   "cell_type": "markdown",
   "metadata": {},
   "source": [
    "👇 Both share a common pattern: there can be more than 1 country and more than 1 genre per movie."
   ]
  },
  {
   "cell_type": "code",
   "execution_count": 120,
   "metadata": {
    "ExecuteTime": {
     "end_time": "2021-06-30T11:51:31.836710Z",
     "start_time": "2021-06-30T11:51:31.831186Z"
    }
   },
   "outputs": [
    {
     "data": {
      "text/html": [
       "<div>\n",
       "<style scoped>\n",
       "    .dataframe tbody tr th:only-of-type {\n",
       "        vertical-align: middle;\n",
       "    }\n",
       "\n",
       "    .dataframe tbody tr th {\n",
       "        vertical-align: top;\n",
       "    }\n",
       "\n",
       "    .dataframe thead th {\n",
       "        text-align: right;\n",
       "    }\n",
       "</style>\n",
       "<table border=\"1\" class=\"dataframe\">\n",
       "  <thead>\n",
       "    <tr style=\"text-align: right;\">\n",
       "      <th></th>\n",
       "      <th>all_genres</th>\n",
       "      <th>top_countries</th>\n",
       "    </tr>\n",
       "  </thead>\n",
       "  <tbody>\n",
       "    <tr>\n",
       "      <th>6459</th>\n",
       "      <td>Thriller</td>\n",
       "      <td>France, United States of America</td>\n",
       "    </tr>\n",
       "    <tr>\n",
       "      <th>6460</th>\n",
       "      <td>Action, Adventure, Comedy, Thriller</td>\n",
       "      <td>United States of America</td>\n",
       "    </tr>\n",
       "    <tr>\n",
       "      <th>6461</th>\n",
       "      <td>Drama</td>\n",
       "      <td>United States of America</td>\n",
       "    </tr>\n",
       "    <tr>\n",
       "      <th>6462</th>\n",
       "      <td>Horror, Thriller</td>\n",
       "      <td>United States of America</td>\n",
       "    </tr>\n",
       "    <tr>\n",
       "      <th>6463</th>\n",
       "      <td>Drama</td>\n",
       "      <td>France</td>\n",
       "    </tr>\n",
       "  </tbody>\n",
       "</table>\n",
       "</div>"
      ],
      "text/plain": [
       "                               all_genres                     top_countries\n",
       "6459                             Thriller  France, United States of America\n",
       "6460  Action, Adventure, Comedy, Thriller          United States of America\n",
       "6461                                Drama          United States of America\n",
       "6462                     Horror, Thriller          United States of America\n",
       "6463                                Drama                            France"
      ]
     },
     "execution_count": 120,
     "metadata": {},
     "output_type": "execute_result"
    }
   ],
   "source": [
    "X[['all_genres', 'top_countries']].tail()"
   ]
  },
  {
   "cell_type": "markdown",
   "metadata": {},
   "source": [
    "👉 Run the cell below where we have coded for you a custom transformer `CustomGenreAndCountryEncoder` which: \n",
    "- Select the 10 most frequent genres and the 5 most frequent countries\n",
    "- Encode `all_genres` into 10 One Hot Encoded features\n",
    "- Encode `top_countries` into 5 One Hot Encoded features"
   ]
  },
  {
   "cell_type": "code",
   "execution_count": 121,
   "metadata": {
    "ExecuteTime": {
     "end_time": "2021-06-30T11:52:11.139518Z",
     "start_time": "2021-06-30T11:52:11.131002Z"
    }
   },
   "outputs": [],
   "source": [
    "from collections import Counter\n",
    "from sklearn.base import BaseEstimator, TransformerMixin\n",
    "\n",
    "class CustomGenreAndCountryEncoder(BaseEstimator, TransformerMixin):\n",
    "    \"\"\"\n",
    "    Encoding the all_genres and top_companies features which are multi-categorical :\n",
    "    a movie has several possible genres and countries of productions!\n",
    "    \"\"\"\n",
    "\n",
    "    def __init__(self):\n",
    "        pass\n",
    "\n",
    "    def fit(self, X, y=None):\n",
    "        \"\"\"\n",
    "        compute top genres and top countries of productions from all_genres and top_countries features\n",
    "        \"\"\"\n",
    "\n",
    "        # compute top 10 genres       \n",
    "        list_of_genres = list(X['all_genres'].apply(lambda x: [i.strip() for i in x.split(\",\")] if x != [''] else []).values)\n",
    "        top_genres = [m[0] for m in Counter([i for j in list_of_genres for i in j]).most_common(10)]\n",
    "\n",
    "        # save top_genres in dedicated instance variable\n",
    "        self.top_genres = top_genres\n",
    "        \n",
    "         # compute top 5 countries       \n",
    "        list_of_countries = list(X['top_countries'].apply(lambda x: [i.strip() for i in x.split(\",\")] if x != [''] else []).values)\n",
    "        top_countries = [m[0] for m in Counter([i for j in list_of_countries for i in j]).most_common(5)]\n",
    "\n",
    "        # save top_countries in dedicated instance variable\n",
    "        self.top_countries = top_countries\n",
    "\n",
    "        return self\n",
    "\n",
    "    def transform(self, X, y=None):\n",
    "        \"\"\"\n",
    "        encoding genre and country\n",
    "        \"\"\"\n",
    "        X_new = X.copy()\n",
    "        for genre in self.top_genres:\n",
    "            X_new['genre_' + genre] = X_new['all_genres'].apply(lambda x: 1 if genre in x else 0)\n",
    "        X_new = X_new.drop(columns=[\"all_genres\"])\n",
    "        for country in self.top_countries:\n",
    "            X_new['country_' + country] = X_new['top_countries'].apply(lambda x: 1 if country in x else 0)\n",
    "        X_new = X_new.drop(columns=[\"top_countries\"])\n",
    "        return X_new"
   ]
  },
  {
   "cell_type": "code",
   "execution_count": 122,
   "metadata": {
    "ExecuteTime": {
     "end_time": "2021-06-30T11:52:14.883885Z",
     "start_time": "2021-06-30T11:52:14.833379Z"
    }
   },
   "outputs": [
    {
     "name": "stdout",
     "output_type": "stream",
     "text": [
      "(6463, 15)\n"
     ]
    },
    {
     "data": {
      "text/html": [
       "<div>\n",
       "<style scoped>\n",
       "    .dataframe tbody tr th:only-of-type {\n",
       "        vertical-align: middle;\n",
       "    }\n",
       "\n",
       "    .dataframe tbody tr th {\n",
       "        vertical-align: top;\n",
       "    }\n",
       "\n",
       "    .dataframe thead th {\n",
       "        text-align: right;\n",
       "    }\n",
       "</style>\n",
       "<table border=\"1\" class=\"dataframe\">\n",
       "  <thead>\n",
       "    <tr style=\"text-align: right;\">\n",
       "      <th></th>\n",
       "      <th>genre_Drama</th>\n",
       "      <th>genre_Comedy</th>\n",
       "      <th>genre_Thriller</th>\n",
       "      <th>genre_Action</th>\n",
       "      <th>genre_Romance</th>\n",
       "      <th>genre_Adventure</th>\n",
       "      <th>genre_Crime</th>\n",
       "      <th>genre_Science Fiction</th>\n",
       "      <th>genre_Horror</th>\n",
       "      <th>genre_Family</th>\n",
       "      <th>country_United States of America</th>\n",
       "      <th>country_United Kingdom</th>\n",
       "      <th>country_France</th>\n",
       "      <th>country_Germany</th>\n",
       "      <th>country_Canada</th>\n",
       "    </tr>\n",
       "  </thead>\n",
       "  <tbody>\n",
       "    <tr>\n",
       "      <th>0</th>\n",
       "      <td>0</td>\n",
       "      <td>1</td>\n",
       "      <td>0</td>\n",
       "      <td>0</td>\n",
       "      <td>0</td>\n",
       "      <td>0</td>\n",
       "      <td>0</td>\n",
       "      <td>0</td>\n",
       "      <td>0</td>\n",
       "      <td>0</td>\n",
       "      <td>1</td>\n",
       "      <td>0</td>\n",
       "      <td>0</td>\n",
       "      <td>0</td>\n",
       "      <td>0</td>\n",
       "    </tr>\n",
       "    <tr>\n",
       "      <th>1</th>\n",
       "      <td>1</td>\n",
       "      <td>1</td>\n",
       "      <td>0</td>\n",
       "      <td>0</td>\n",
       "      <td>1</td>\n",
       "      <td>0</td>\n",
       "      <td>0</td>\n",
       "      <td>0</td>\n",
       "      <td>0</td>\n",
       "      <td>1</td>\n",
       "      <td>1</td>\n",
       "      <td>0</td>\n",
       "      <td>0</td>\n",
       "      <td>0</td>\n",
       "      <td>0</td>\n",
       "    </tr>\n",
       "    <tr>\n",
       "      <th>2</th>\n",
       "      <td>1</td>\n",
       "      <td>0</td>\n",
       "      <td>0</td>\n",
       "      <td>0</td>\n",
       "      <td>0</td>\n",
       "      <td>0</td>\n",
       "      <td>0</td>\n",
       "      <td>0</td>\n",
       "      <td>0</td>\n",
       "      <td>0</td>\n",
       "      <td>1</td>\n",
       "      <td>0</td>\n",
       "      <td>0</td>\n",
       "      <td>0</td>\n",
       "      <td>0</td>\n",
       "    </tr>\n",
       "    <tr>\n",
       "      <th>3</th>\n",
       "      <td>1</td>\n",
       "      <td>0</td>\n",
       "      <td>1</td>\n",
       "      <td>0</td>\n",
       "      <td>0</td>\n",
       "      <td>0</td>\n",
       "      <td>0</td>\n",
       "      <td>0</td>\n",
       "      <td>0</td>\n",
       "      <td>0</td>\n",
       "      <td>0</td>\n",
       "      <td>0</td>\n",
       "      <td>0</td>\n",
       "      <td>0</td>\n",
       "      <td>0</td>\n",
       "    </tr>\n",
       "    <tr>\n",
       "      <th>4</th>\n",
       "      <td>0</td>\n",
       "      <td>0</td>\n",
       "      <td>1</td>\n",
       "      <td>0</td>\n",
       "      <td>0</td>\n",
       "      <td>0</td>\n",
       "      <td>0</td>\n",
       "      <td>0</td>\n",
       "      <td>1</td>\n",
       "      <td>0</td>\n",
       "      <td>1</td>\n",
       "      <td>0</td>\n",
       "      <td>0</td>\n",
       "      <td>0</td>\n",
       "      <td>1</td>\n",
       "    </tr>\n",
       "  </tbody>\n",
       "</table>\n",
       "</div>"
      ],
      "text/plain": [
       "   genre_Drama  genre_Comedy  genre_Thriller  genre_Action  genre_Romance  \\\n",
       "0            0             1               0             0              0   \n",
       "1            1             1               0             0              1   \n",
       "2            1             0               0             0              0   \n",
       "3            1             0               1             0              0   \n",
       "4            0             0               1             0              0   \n",
       "\n",
       "   genre_Adventure  genre_Crime  genre_Science Fiction  genre_Horror  \\\n",
       "0                0            0                      0             0   \n",
       "1                0            0                      0             0   \n",
       "2                0            0                      0             0   \n",
       "3                0            0                      0             0   \n",
       "4                0            0                      0             1   \n",
       "\n",
       "   genre_Family  country_United States of America  country_United Kingdom  \\\n",
       "0             0                                 1                       0   \n",
       "1             1                                 1                       0   \n",
       "2             0                                 1                       0   \n",
       "3             0                                 0                       0   \n",
       "4             0                                 1                       0   \n",
       "\n",
       "   country_France  country_Germany  country_Canada  \n",
       "0               0                0               0  \n",
       "1               0                0               0  \n",
       "2               0                0               0  \n",
       "3               0                0               0  \n",
       "4               0                0               1  "
      ]
     },
     "execution_count": 122,
     "metadata": {},
     "output_type": "execute_result"
    }
   ],
   "source": [
    "# Check it out\n",
    "X_custom = CustomGenreAndCountryEncoder().fit_transform(X[['all_genres', 'top_countries']])\n",
    "print(X_custom.shape)\n",
    "X_custom.head()"
   ]
  },
  {
   "cell_type": "markdown",
   "metadata": {},
   "source": [
    "**📝 Compute your `final_pipeline` by integrating all these transformers** (or all those you have coded)\n",
    "\n",
    "- `CustomGenreAndCountryEncoder`\n",
    "- `TimeFeaturesExtractor`\n",
    "- `CyclicalFeatureExtractor`"
   ]
  },
  {
   "cell_type": "code",
   "execution_count": 123,
   "metadata": {
    "ExecuteTime": {
     "end_time": "2021-06-30T11:55:40.598678Z",
     "start_time": "2021-06-30T11:55:40.594367Z"
    },
    "tags": [
     "challengify"
    ]
   },
   "outputs": [],
   "source": [
    "\n",
    "final_preprocessing = ColumnTransformer([\n",
    "    ('numerical_proc', numerical_proc, numerical),\n",
    "    ('categorical_proc', categorical_proc, ['original_language', 'status', 'available_in_english']),\n",
    "    ('genre_country_encoder', CustomGenreAndCountryEncoder(), ['all_genres', 'top_countries']),\n",
    "    ('time_proc', time_proc, ['release_date'])\n",
    "    ],\n",
    "    remainder='drop'\n",
    "    )\n",
    "final_pipeline = Pipeline([\n",
    "    ('preproc', final_preprocessing),\n",
    "    ('model', Lasso())\n",
    "    \n",
    "])"
   ]
  },
  {
   "cell_type": "code",
   "execution_count": 125,
   "metadata": {
    "ExecuteTime": {
     "end_time": "2021-06-30T11:57:00.936801Z",
     "start_time": "2021-06-30T11:57:00.858547Z"
    }
   },
   "outputs": [
    {
     "data": {
      "text/html": [
       "<div>\n",
       "<style scoped>\n",
       "    .dataframe tbody tr th:only-of-type {\n",
       "        vertical-align: middle;\n",
       "    }\n",
       "\n",
       "    .dataframe tbody tr th {\n",
       "        vertical-align: top;\n",
       "    }\n",
       "\n",
       "    .dataframe thead th {\n",
       "        text-align: right;\n",
       "    }\n",
       "</style>\n",
       "<table border=\"1\" class=\"dataframe\">\n",
       "  <thead>\n",
       "    <tr style=\"text-align: right;\">\n",
       "      <th></th>\n",
       "      <th>0</th>\n",
       "      <th>1</th>\n",
       "      <th>2</th>\n",
       "      <th>3</th>\n",
       "      <th>4</th>\n",
       "      <th>5</th>\n",
       "      <th>6</th>\n",
       "      <th>7</th>\n",
       "      <th>8</th>\n",
       "      <th>9</th>\n",
       "      <th>...</th>\n",
       "      <th>61</th>\n",
       "      <th>62</th>\n",
       "      <th>63</th>\n",
       "      <th>64</th>\n",
       "      <th>65</th>\n",
       "      <th>66</th>\n",
       "      <th>67</th>\n",
       "      <th>68</th>\n",
       "      <th>69</th>\n",
       "      <th>70</th>\n",
       "    </tr>\n",
       "  </thead>\n",
       "  <tbody>\n",
       "    <tr>\n",
       "      <th>0</th>\n",
       "      <td>-0.500000</td>\n",
       "      <td>0.093684</td>\n",
       "      <td>-0.333333</td>\n",
       "      <td>-0.250000</td>\n",
       "      <td>1.0</td>\n",
       "      <td>2.0</td>\n",
       "      <td>0.0</td>\n",
       "      <td>0.0</td>\n",
       "      <td>0.0</td>\n",
       "      <td>0.0</td>\n",
       "      <td>...</td>\n",
       "      <td>0.0</td>\n",
       "      <td>0.0</td>\n",
       "      <td>1.0</td>\n",
       "      <td>0.0</td>\n",
       "      <td>0.0</td>\n",
       "      <td>0.0</td>\n",
       "      <td>0.0</td>\n",
       "      <td>0.979167</td>\n",
       "      <td>5.000000e-01</td>\n",
       "      <td>8.660254e-01</td>\n",
       "    </tr>\n",
       "    <tr>\n",
       "      <th>1</th>\n",
       "      <td>0.333333</td>\n",
       "      <td>0.905609</td>\n",
       "      <td>-0.166667</td>\n",
       "      <td>-0.250000</td>\n",
       "      <td>1.0</td>\n",
       "      <td>0.0</td>\n",
       "      <td>0.0</td>\n",
       "      <td>0.0</td>\n",
       "      <td>0.0</td>\n",
       "      <td>0.0</td>\n",
       "      <td>...</td>\n",
       "      <td>0.0</td>\n",
       "      <td>1.0</td>\n",
       "      <td>1.0</td>\n",
       "      <td>0.0</td>\n",
       "      <td>0.0</td>\n",
       "      <td>0.0</td>\n",
       "      <td>0.0</td>\n",
       "      <td>0.864583</td>\n",
       "      <td>-5.000000e-01</td>\n",
       "      <td>-8.660254e-01</td>\n",
       "    </tr>\n",
       "    <tr>\n",
       "      <th>2</th>\n",
       "      <td>0.000000</td>\n",
       "      <td>-0.240455</td>\n",
       "      <td>15.833333</td>\n",
       "      <td>11.666667</td>\n",
       "      <td>0.0</td>\n",
       "      <td>-1.0</td>\n",
       "      <td>0.0</td>\n",
       "      <td>0.0</td>\n",
       "      <td>0.0</td>\n",
       "      <td>0.0</td>\n",
       "      <td>...</td>\n",
       "      <td>0.0</td>\n",
       "      <td>0.0</td>\n",
       "      <td>1.0</td>\n",
       "      <td>0.0</td>\n",
       "      <td>0.0</td>\n",
       "      <td>0.0</td>\n",
       "      <td>0.0</td>\n",
       "      <td>0.968750</td>\n",
       "      <td>5.000000e-01</td>\n",
       "      <td>-8.660254e-01</td>\n",
       "    </tr>\n",
       "    <tr>\n",
       "      <th>3</th>\n",
       "      <td>0.708333</td>\n",
       "      <td>-0.306033</td>\n",
       "      <td>3.500000</td>\n",
       "      <td>1.083333</td>\n",
       "      <td>0.0</td>\n",
       "      <td>-1.0</td>\n",
       "      <td>0.0</td>\n",
       "      <td>0.0</td>\n",
       "      <td>0.0</td>\n",
       "      <td>0.0</td>\n",
       "      <td>...</td>\n",
       "      <td>0.0</td>\n",
       "      <td>0.0</td>\n",
       "      <td>0.0</td>\n",
       "      <td>0.0</td>\n",
       "      <td>0.0</td>\n",
       "      <td>0.0</td>\n",
       "      <td>0.0</td>\n",
       "      <td>0.947917</td>\n",
       "      <td>6.123234e-17</td>\n",
       "      <td>1.000000e+00</td>\n",
       "    </tr>\n",
       "    <tr>\n",
       "      <th>4</th>\n",
       "      <td>-0.541667</td>\n",
       "      <td>0.093684</td>\n",
       "      <td>-0.333333</td>\n",
       "      <td>0.083333</td>\n",
       "      <td>0.0</td>\n",
       "      <td>-1.0</td>\n",
       "      <td>0.0</td>\n",
       "      <td>0.0</td>\n",
       "      <td>0.0</td>\n",
       "      <td>0.0</td>\n",
       "      <td>...</td>\n",
       "      <td>1.0</td>\n",
       "      <td>0.0</td>\n",
       "      <td>1.0</td>\n",
       "      <td>0.0</td>\n",
       "      <td>0.0</td>\n",
       "      <td>0.0</td>\n",
       "      <td>1.0</td>\n",
       "      <td>0.947917</td>\n",
       "      <td>-5.000000e-01</td>\n",
       "      <td>-8.660254e-01</td>\n",
       "    </tr>\n",
       "    <tr>\n",
       "      <th>...</th>\n",
       "      <td>...</td>\n",
       "      <td>...</td>\n",
       "      <td>...</td>\n",
       "      <td>...</td>\n",
       "      <td>...</td>\n",
       "      <td>...</td>\n",
       "      <td>...</td>\n",
       "      <td>...</td>\n",
       "      <td>...</td>\n",
       "      <td>...</td>\n",
       "      <td>...</td>\n",
       "      <td>...</td>\n",
       "      <td>...</td>\n",
       "      <td>...</td>\n",
       "      <td>...</td>\n",
       "      <td>...</td>\n",
       "      <td>...</td>\n",
       "      <td>...</td>\n",
       "      <td>...</td>\n",
       "      <td>...</td>\n",
       "      <td>...</td>\n",
       "    </tr>\n",
       "    <tr>\n",
       "      <th>6458</th>\n",
       "      <td>0.541667</td>\n",
       "      <td>0.968065</td>\n",
       "      <td>-0.333333</td>\n",
       "      <td>-0.250000</td>\n",
       "      <td>0.0</td>\n",
       "      <td>0.0</td>\n",
       "      <td>0.0</td>\n",
       "      <td>0.0</td>\n",
       "      <td>0.0</td>\n",
       "      <td>0.0</td>\n",
       "      <td>...</td>\n",
       "      <td>0.0</td>\n",
       "      <td>0.0</td>\n",
       "      <td>1.0</td>\n",
       "      <td>0.0</td>\n",
       "      <td>1.0</td>\n",
       "      <td>0.0</td>\n",
       "      <td>0.0</td>\n",
       "      <td>0.833333</td>\n",
       "      <td>-5.000000e-01</td>\n",
       "      <td>-8.660254e-01</td>\n",
       "    </tr>\n",
       "    <tr>\n",
       "      <th>6459</th>\n",
       "      <td>-0.416667</td>\n",
       "      <td>0.249823</td>\n",
       "      <td>-0.333333</td>\n",
       "      <td>-0.416667</td>\n",
       "      <td>1.0</td>\n",
       "      <td>0.0</td>\n",
       "      <td>0.0</td>\n",
       "      <td>0.0</td>\n",
       "      <td>0.0</td>\n",
       "      <td>0.0</td>\n",
       "      <td>...</td>\n",
       "      <td>0.0</td>\n",
       "      <td>0.0</td>\n",
       "      <td>1.0</td>\n",
       "      <td>0.0</td>\n",
       "      <td>0.0</td>\n",
       "      <td>0.0</td>\n",
       "      <td>0.0</td>\n",
       "      <td>0.864583</td>\n",
       "      <td>-5.000000e-01</td>\n",
       "      <td>-8.660254e-01</td>\n",
       "    </tr>\n",
       "    <tr>\n",
       "      <th>6460</th>\n",
       "      <td>1.000000</td>\n",
       "      <td>0.156139</td>\n",
       "      <td>0.166667</td>\n",
       "      <td>0.750000</td>\n",
       "      <td>0.0</td>\n",
       "      <td>0.0</td>\n",
       "      <td>0.0</td>\n",
       "      <td>0.0</td>\n",
       "      <td>0.0</td>\n",
       "      <td>0.0</td>\n",
       "      <td>...</td>\n",
       "      <td>0.0</td>\n",
       "      <td>0.0</td>\n",
       "      <td>1.0</td>\n",
       "      <td>0.0</td>\n",
       "      <td>0.0</td>\n",
       "      <td>0.0</td>\n",
       "      <td>0.0</td>\n",
       "      <td>0.635417</td>\n",
       "      <td>1.000000e+00</td>\n",
       "      <td>-2.449294e-16</td>\n",
       "    </tr>\n",
       "    <tr>\n",
       "      <th>6461</th>\n",
       "      <td>-0.208333</td>\n",
       "      <td>-0.281051</td>\n",
       "      <td>3.833333</td>\n",
       "      <td>3.166667</td>\n",
       "      <td>0.0</td>\n",
       "      <td>-1.0</td>\n",
       "      <td>0.0</td>\n",
       "      <td>0.0</td>\n",
       "      <td>0.0</td>\n",
       "      <td>0.0</td>\n",
       "      <td>...</td>\n",
       "      <td>1.0</td>\n",
       "      <td>0.0</td>\n",
       "      <td>1.0</td>\n",
       "      <td>0.0</td>\n",
       "      <td>0.0</td>\n",
       "      <td>0.0</td>\n",
       "      <td>0.0</td>\n",
       "      <td>0.979167</td>\n",
       "      <td>5.000000e-01</td>\n",
       "      <td>8.660254e-01</td>\n",
       "    </tr>\n",
       "    <tr>\n",
       "      <th>6462</th>\n",
       "      <td>-0.833333</td>\n",
       "      <td>-0.341508</td>\n",
       "      <td>0.166667</td>\n",
       "      <td>-0.333333</td>\n",
       "      <td>0.0</td>\n",
       "      <td>-1.0</td>\n",
       "      <td>0.0</td>\n",
       "      <td>0.0</td>\n",
       "      <td>0.0</td>\n",
       "      <td>0.0</td>\n",
       "      <td>...</td>\n",
       "      <td>0.0</td>\n",
       "      <td>0.0</td>\n",
       "      <td>0.0</td>\n",
       "      <td>0.0</td>\n",
       "      <td>1.0</td>\n",
       "      <td>0.0</td>\n",
       "      <td>0.0</td>\n",
       "      <td>0.427083</td>\n",
       "      <td>-1.836970e-16</td>\n",
       "      <td>-1.000000e+00</td>\n",
       "    </tr>\n",
       "  </tbody>\n",
       "</table>\n",
       "<p>6463 rows × 71 columns</p>\n",
       "</div>"
      ],
      "text/plain": [
       "            0         1          2          3    4    5    6    7    8    9   \\\n",
       "0    -0.500000  0.093684  -0.333333  -0.250000  1.0  2.0  0.0  0.0  0.0  0.0   \n",
       "1     0.333333  0.905609  -0.166667  -0.250000  1.0  0.0  0.0  0.0  0.0  0.0   \n",
       "2     0.000000 -0.240455  15.833333  11.666667  0.0 -1.0  0.0  0.0  0.0  0.0   \n",
       "3     0.708333 -0.306033   3.500000   1.083333  0.0 -1.0  0.0  0.0  0.0  0.0   \n",
       "4    -0.541667  0.093684  -0.333333   0.083333  0.0 -1.0  0.0  0.0  0.0  0.0   \n",
       "...        ...       ...        ...        ...  ...  ...  ...  ...  ...  ...   \n",
       "6458  0.541667  0.968065  -0.333333  -0.250000  0.0  0.0  0.0  0.0  0.0  0.0   \n",
       "6459 -0.416667  0.249823  -0.333333  -0.416667  1.0  0.0  0.0  0.0  0.0  0.0   \n",
       "6460  1.000000  0.156139   0.166667   0.750000  0.0  0.0  0.0  0.0  0.0  0.0   \n",
       "6461 -0.208333 -0.281051   3.833333   3.166667  0.0 -1.0  0.0  0.0  0.0  0.0   \n",
       "6462 -0.833333 -0.341508   0.166667  -0.333333  0.0 -1.0  0.0  0.0  0.0  0.0   \n",
       "\n",
       "      ...   61   62   63   64   65   66   67        68            69  \\\n",
       "0     ...  0.0  0.0  1.0  0.0  0.0  0.0  0.0  0.979167  5.000000e-01   \n",
       "1     ...  0.0  1.0  1.0  0.0  0.0  0.0  0.0  0.864583 -5.000000e-01   \n",
       "2     ...  0.0  0.0  1.0  0.0  0.0  0.0  0.0  0.968750  5.000000e-01   \n",
       "3     ...  0.0  0.0  0.0  0.0  0.0  0.0  0.0  0.947917  6.123234e-17   \n",
       "4     ...  1.0  0.0  1.0  0.0  0.0  0.0  1.0  0.947917 -5.000000e-01   \n",
       "...   ...  ...  ...  ...  ...  ...  ...  ...       ...           ...   \n",
       "6458  ...  0.0  0.0  1.0  0.0  1.0  0.0  0.0  0.833333 -5.000000e-01   \n",
       "6459  ...  0.0  0.0  1.0  0.0  0.0  0.0  0.0  0.864583 -5.000000e-01   \n",
       "6460  ...  0.0  0.0  1.0  0.0  0.0  0.0  0.0  0.635417  1.000000e+00   \n",
       "6461  ...  1.0  0.0  1.0  0.0  0.0  0.0  0.0  0.979167  5.000000e-01   \n",
       "6462  ...  0.0  0.0  0.0  0.0  1.0  0.0  0.0  0.427083 -1.836970e-16   \n",
       "\n",
       "                70  \n",
       "0     8.660254e-01  \n",
       "1    -8.660254e-01  \n",
       "2    -8.660254e-01  \n",
       "3     1.000000e+00  \n",
       "4    -8.660254e-01  \n",
       "...            ...  \n",
       "6458 -8.660254e-01  \n",
       "6459 -8.660254e-01  \n",
       "6460 -2.449294e-16  \n",
       "6461  8.660254e-01  \n",
       "6462 -1.000000e+00  \n",
       "\n",
       "[6463 rows x 71 columns]"
      ]
     },
     "execution_count": 125,
     "metadata": {},
     "output_type": "execute_result"
    }
   ],
   "source": [
    "pd.DataFrame(final_preprocessing.fit_transform(X))"
   ]
  },
  {
   "cell_type": "markdown",
   "metadata": {},
   "source": [
    "📝 **Compute and store its cross validated scores as `final_scores` array of floats**\n",
    "\n",
    "- It does not necessarily improve the performance before we can try-out doing model tuning\n",
    "- However, with a now limited number of features, we will be able to train more complex models in next section (ensemble...)"
   ]
  },
  {
   "cell_type": "code",
   "execution_count": 124,
   "metadata": {
    "ExecuteTime": {
     "end_time": "2021-06-30T11:56:29.957535Z",
     "start_time": "2021-06-30T11:56:29.334290Z"
    }
   },
   "outputs": [
    {
     "data": {
      "text/plain": [
       "array([-0.83501648, -0.96666569, -0.91112822, -0.90045368, -0.90539316])"
      ]
     },
     "execution_count": 124,
     "metadata": {},
     "output_type": "execute_result"
    }
   ],
   "source": [
    "final_scores = cross_val_score(final_pipeline, X, y, cv=5, scoring=scoring)\n",
    "\n",
    "final_scores"
   ]
  },
  {
   "cell_type": "markdown",
   "metadata": {},
   "source": [
    "### 🧪 Save your result\n",
    "\n",
    "Run the following cell to save your results."
   ]
  },
  {
   "cell_type": "code",
   "execution_count": 126,
   "metadata": {
    "ExecuteTime": {
     "end_time": "2021-06-30T11:57:20.660183Z",
     "start_time": "2021-06-30T11:57:20.656642Z"
    }
   },
   "outputs": [],
   "source": [
    "ChallengeResult(\n",
    "    'feature_engineering',\n",
    "    X_time_features=X_time_features,\n",
    "    X_time_cyclical= X_time_cyclical,\n",
    "    time_pipeline=time_pipeline,\n",
    "    final_pipeline=final_pipeline,\n",
    "    final_scores=final_scores\n",
    ").write()\n",
    "\n",
    "# Hint: Try restarting your notebook if you obtain an error about saving a custom encoder"
   ]
  },
  {
   "cell_type": "markdown",
   "metadata": {},
   "source": [
    "## Model tuning"
   ]
  },
  {
   "cell_type": "markdown",
   "metadata": {},
   "source": [
    "### Random Forest"
   ]
  },
  {
   "cell_type": "markdown",
   "metadata": {},
   "source": [
    "📝 **Change the estimator of your `final_pipeline` by a Random Forest and checkout your new cross-validated score**"
   ]
  },
  {
   "cell_type": "code",
   "execution_count": 134,
   "metadata": {
    "ExecuteTime": {
     "end_time": "2021-06-30T12:09:00.601751Z",
     "start_time": "2021-06-30T12:09:00.599629Z"
    },
    "tags": [
     "challengify"
    ]
   },
   "outputs": [],
   "source": [
    "from sklearn.ensemble import RandomForestRegressor\n",
    "final_pipeline=final_pipeline = Pipeline([\n",
    "    ('preproc', final_preprocessing),\n",
    "    ('model', RandomForestRegressor())\n",
    "    \n",
    "])"
   ]
  },
  {
   "cell_type": "code",
   "execution_count": 135,
   "metadata": {
    "ExecuteTime": {
     "end_time": "2021-06-30T12:09:11.672462Z",
     "start_time": "2021-06-30T12:09:02.016360Z"
    }
   },
   "outputs": [
    {
     "data": {
      "text/plain": [
       "array([-0.6748468 , -0.7335457 , -0.68287334, -0.67451434, -0.68252124])"
      ]
     },
     "execution_count": 135,
     "metadata": {},
     "output_type": "execute_result"
    }
   ],
   "source": [
    "cv = cross_val_score(final_pipeline, X, y, cv=5, scoring=scoring)\n",
    "\n",
    "cv"
   ]
  },
  {
   "cell_type": "markdown",
   "metadata": {},
   "source": [
    "### Best hyperparameters quest\n",
    "\n",
    "\n",
    "\n",
    "**📝 Fine tune your model to try to get the best performance in the minimum amount of time!**\n",
    "\n",
    "- Store the result of your search inside the `search` variable.\n",
    "- Store your 5 cross-validated scores inside `best_scores` array of floats"
   ]
  },
  {
   "cell_type": "code",
   "execution_count": 129,
   "metadata": {
    "ExecuteTime": {
     "end_time": "2021-06-30T12:01:51.741007Z",
     "start_time": "2021-06-30T12:01:51.713319Z"
    },
    "tags": [
     "challengify"
    ]
   },
   "outputs": [
    {
     "data": {
      "text/plain": [
       "{'memory': None,\n",
       " 'steps': [('preproc',\n",
       "   ColumnTransformer(transformers=[('numerical_proc',\n",
       "                                    Pipeline(steps=[('scale', RobustScaler())]),\n",
       "                                    ['duration_min', 'budget',\n",
       "                                     'number_of_awards_won',\n",
       "                                     'number_of_nominations', 'has_collection',\n",
       "                                     'number_of_top_productions']),\n",
       "                                   ('categorical_proc',\n",
       "                                    Pipeline(steps=[('encode',\n",
       "                                                     OneHotEncoder(handle_unknown='ignore',\n",
       "                                                                   sparse=False))]),\n",
       "                                    ['original_language', 'status',\n",
       "                                     'available_in_english']),\n",
       "                                   ('genre_country_encoder',\n",
       "                                    CustomGenreAndCountryEncoder(),\n",
       "                                    ['all_genres', 'top_countries']),\n",
       "                                   ('time_proc',\n",
       "                                    Pipeline(steps=[('time_feature',\n",
       "                                                     TimeFeaturesExtractor()),\n",
       "                                                    ('cyclical',\n",
       "                                                     CyclicalEncoder())]),\n",
       "                                    ['release_date'])])),\n",
       "  ('model', RandomForestRegressor())],\n",
       " 'verbose': False,\n",
       " 'preproc': ColumnTransformer(transformers=[('numerical_proc',\n",
       "                                  Pipeline(steps=[('scale', RobustScaler())]),\n",
       "                                  ['duration_min', 'budget',\n",
       "                                   'number_of_awards_won',\n",
       "                                   'number_of_nominations', 'has_collection',\n",
       "                                   'number_of_top_productions']),\n",
       "                                 ('categorical_proc',\n",
       "                                  Pipeline(steps=[('encode',\n",
       "                                                   OneHotEncoder(handle_unknown='ignore',\n",
       "                                                                 sparse=False))]),\n",
       "                                  ['original_language', 'status',\n",
       "                                   'available_in_english']),\n",
       "                                 ('genre_country_encoder',\n",
       "                                  CustomGenreAndCountryEncoder(),\n",
       "                                  ['all_genres', 'top_countries']),\n",
       "                                 ('time_proc',\n",
       "                                  Pipeline(steps=[('time_feature',\n",
       "                                                   TimeFeaturesExtractor()),\n",
       "                                                  ('cyclical',\n",
       "                                                   CyclicalEncoder())]),\n",
       "                                  ['release_date'])]),\n",
       " 'model': RandomForestRegressor(),\n",
       " 'preproc__n_jobs': None,\n",
       " 'preproc__remainder': 'drop',\n",
       " 'preproc__sparse_threshold': 0.3,\n",
       " 'preproc__transformer_weights': None,\n",
       " 'preproc__transformers': [('numerical_proc',\n",
       "   Pipeline(steps=[('scale', RobustScaler())]),\n",
       "   ['duration_min',\n",
       "    'budget',\n",
       "    'number_of_awards_won',\n",
       "    'number_of_nominations',\n",
       "    'has_collection',\n",
       "    'number_of_top_productions']),\n",
       "  ('categorical_proc',\n",
       "   Pipeline(steps=[('encode',\n",
       "                    OneHotEncoder(handle_unknown='ignore', sparse=False))]),\n",
       "   ['original_language', 'status', 'available_in_english']),\n",
       "  ('genre_country_encoder',\n",
       "   CustomGenreAndCountryEncoder(),\n",
       "   ['all_genres', 'top_countries']),\n",
       "  ('time_proc',\n",
       "   Pipeline(steps=[('time_feature', TimeFeaturesExtractor()),\n",
       "                   ('cyclical', CyclicalEncoder())]),\n",
       "   ['release_date'])],\n",
       " 'preproc__verbose': False,\n",
       " 'preproc__numerical_proc': Pipeline(steps=[('scale', RobustScaler())]),\n",
       " 'preproc__categorical_proc': Pipeline(steps=[('encode',\n",
       "                  OneHotEncoder(handle_unknown='ignore', sparse=False))]),\n",
       " 'preproc__genre_country_encoder': CustomGenreAndCountryEncoder(),\n",
       " 'preproc__time_proc': Pipeline(steps=[('time_feature', TimeFeaturesExtractor()),\n",
       "                 ('cyclical', CyclicalEncoder())]),\n",
       " 'preproc__numerical_proc__memory': None,\n",
       " 'preproc__numerical_proc__steps': [('scale', RobustScaler())],\n",
       " 'preproc__numerical_proc__verbose': False,\n",
       " 'preproc__numerical_proc__scale': RobustScaler(),\n",
       " 'preproc__numerical_proc__scale__copy': True,\n",
       " 'preproc__numerical_proc__scale__quantile_range': (25.0, 75.0),\n",
       " 'preproc__numerical_proc__scale__unit_variance': False,\n",
       " 'preproc__numerical_proc__scale__with_centering': True,\n",
       " 'preproc__numerical_proc__scale__with_scaling': True,\n",
       " 'preproc__categorical_proc__memory': None,\n",
       " 'preproc__categorical_proc__steps': [('encode',\n",
       "   OneHotEncoder(handle_unknown='ignore', sparse=False))],\n",
       " 'preproc__categorical_proc__verbose': False,\n",
       " 'preproc__categorical_proc__encode': OneHotEncoder(handle_unknown='ignore', sparse=False),\n",
       " 'preproc__categorical_proc__encode__categories': 'auto',\n",
       " 'preproc__categorical_proc__encode__drop': None,\n",
       " 'preproc__categorical_proc__encode__dtype': numpy.float64,\n",
       " 'preproc__categorical_proc__encode__handle_unknown': 'ignore',\n",
       " 'preproc__categorical_proc__encode__sparse': False,\n",
       " 'preproc__time_proc__memory': None,\n",
       " 'preproc__time_proc__steps': [('time_feature', TimeFeaturesExtractor()),\n",
       "  ('cyclical', CyclicalEncoder())],\n",
       " 'preproc__time_proc__verbose': False,\n",
       " 'preproc__time_proc__time_feature': TimeFeaturesExtractor(),\n",
       " 'preproc__time_proc__cyclical': CyclicalEncoder(),\n",
       " 'model__bootstrap': True,\n",
       " 'model__ccp_alpha': 0.0,\n",
       " 'model__criterion': 'mse',\n",
       " 'model__max_depth': None,\n",
       " 'model__max_features': 'auto',\n",
       " 'model__max_leaf_nodes': None,\n",
       " 'model__max_samples': None,\n",
       " 'model__min_impurity_decrease': 0.0,\n",
       " 'model__min_impurity_split': None,\n",
       " 'model__min_samples_leaf': 1,\n",
       " 'model__min_samples_split': 2,\n",
       " 'model__min_weight_fraction_leaf': 0.0,\n",
       " 'model__n_estimators': 100,\n",
       " 'model__n_jobs': None,\n",
       " 'model__oob_score': False,\n",
       " 'model__random_state': None,\n",
       " 'model__verbose': 0,\n",
       " 'model__warm_start': False}"
      ]
     },
     "execution_count": 129,
     "metadata": {},
     "output_type": "execute_result"
    }
   ],
   "source": [
    "final_pipeline.get_params()"
   ]
  },
  {
   "cell_type": "code",
   "execution_count": 136,
   "metadata": {
    "ExecuteTime": {
     "end_time": "2021-06-30T12:11:13.132238Z",
     "start_time": "2021-06-30T12:09:52.897317Z"
    }
   },
   "outputs": [
    {
     "name": "stderr",
     "output_type": "stream",
     "text": [
      "/home/jprezler/.pyenv/versions/3.8.6/envs/lewagon/lib/python3.8/site-packages/sklearn/model_selection/_search.py:922: UserWarning: One or more of the test scores are non-finite: [        nan         nan         nan -0.69731392 -0.68625813 -0.6861194\n",
      " -0.69324856 -0.69037342 -0.68923224         nan         nan         nan\n",
      " -0.68783069 -0.6845265  -0.68130167 -0.68485318 -0.68491531 -0.68466751\n",
      "         nan         nan         nan -0.69276113 -0.69065702 -0.68827851\n",
      " -0.69165369 -0.68980809 -0.6871282          nan         nan         nan\n",
      " -0.69926442 -0.68351878 -0.68457012 -0.69211744 -0.68245776 -0.68318208\n",
      "         nan         nan         nan -0.68446929 -0.68394005 -0.68423711\n",
      " -0.69119379 -0.68236665 -0.68202065         nan         nan         nan\n",
      " -0.69038973 -0.68992084 -0.6862049  -0.69250843 -0.69001654 -0.68685422\n",
      "         nan         nan         nan -0.69063871 -0.68407352 -0.68389615\n",
      " -0.69525015 -0.68814329 -0.68722237         nan         nan         nan\n",
      " -0.68614515 -0.68866014 -0.68199961 -0.68023606 -0.68476489 -0.68363216\n",
      "         nan         nan         nan -0.69043756 -0.68961978 -0.69207097\n",
      " -0.68934208 -0.69101411 -0.6890845 ]\n",
      "  warnings.warn(\n"
     ]
    },
    {
     "name": "stdout",
     "output_type": "stream",
     "text": [
      "param {'model__max_depth': 100, 'model__min_samples_leaf': 5, 'model__min_samples_split': 5, 'model__n_estimators': 20}\n",
      "score -0.6802360554708573\n"
     ]
    }
   ],
   "source": [
    "from sklearn.model_selection import GridSearchCV\n",
    "grid_forest = {'model__max_depth' : [20,50,100],\n",
    "             'model__min_samples_leaf' : [2 ,5,10],\n",
    "             'model__min_samples_split' : [1, 2 , 5],\n",
    "               'model__n_estimators' : [20,50,100]\n",
    "            }\n",
    "search = GridSearchCV(final_pipeline, grid_forest, n_jobs=-1, cv=5, scoring=scoring)\n",
    "search.fit(X, y)\n",
    "print('param', search.best_params_)\n",
    "print('score', search.best_score_)"
   ]
  },
  {
   "cell_type": "code",
   "execution_count": 148,
   "metadata": {
    "ExecuteTime": {
     "end_time": "2021-06-30T12:20:15.696044Z",
     "start_time": "2021-06-30T12:20:14.174770Z"
    }
   },
   "outputs": [
    {
     "data": {
      "text/plain": [
       "array([-0.66325448, -0.73187425, -0.69350959, -0.67678641, -0.69396904])"
      ]
     },
     "execution_count": 148,
     "metadata": {},
     "output_type": "execute_result"
    }
   ],
   "source": [
    "best_pipeline= Pipeline([\n",
    "    ('preproc', final_preprocessing),\n",
    "    ('model', RandomForestRegressor(max_depth=100, min_samples_leaf=5, min_samples_split=5, n_estimators=20))\n",
    "    \n",
    "])\n",
    "best_scores = cross_val_score(best_pipeline, X, y, cv=5, scoring=scoring)\n",
    "\n",
    "best_scores"
   ]
  },
  {
   "cell_type": "markdown",
   "metadata": {},
   "source": [
    "**📝 Re-train your best pipeline on the whole (X,y) dataset**\n",
    "- Store the trained pipeline inside the `best_pipeline` variable"
   ]
  },
  {
   "cell_type": "code",
   "execution_count": 149,
   "metadata": {
    "ExecuteTime": {
     "end_time": "2021-06-30T12:20:24.036551Z",
     "start_time": "2021-06-30T12:20:23.625794Z"
    },
    "tags": [
     "challengify"
    ]
   },
   "outputs": [
    {
     "data": {
      "text/html": [
       "<style>#sk-168c5f77-5f70-4de8-b03e-e12ac17a92c4 {color: black;background-color: white;}#sk-168c5f77-5f70-4de8-b03e-e12ac17a92c4 pre{padding: 0;}#sk-168c5f77-5f70-4de8-b03e-e12ac17a92c4 div.sk-toggleable {background-color: white;}#sk-168c5f77-5f70-4de8-b03e-e12ac17a92c4 label.sk-toggleable__label {cursor: pointer;display: block;width: 100%;margin-bottom: 0;padding: 0.2em 0.3em;box-sizing: border-box;text-align: center;}#sk-168c5f77-5f70-4de8-b03e-e12ac17a92c4 div.sk-toggleable__content {max-height: 0;max-width: 0;overflow: hidden;text-align: left;background-color: #f0f8ff;}#sk-168c5f77-5f70-4de8-b03e-e12ac17a92c4 div.sk-toggleable__content pre {margin: 0.2em;color: black;border-radius: 0.25em;background-color: #f0f8ff;}#sk-168c5f77-5f70-4de8-b03e-e12ac17a92c4 input.sk-toggleable__control:checked~div.sk-toggleable__content {max-height: 200px;max-width: 100%;overflow: auto;}#sk-168c5f77-5f70-4de8-b03e-e12ac17a92c4 div.sk-estimator input.sk-toggleable__control:checked~label.sk-toggleable__label {background-color: #d4ebff;}#sk-168c5f77-5f70-4de8-b03e-e12ac17a92c4 div.sk-label input.sk-toggleable__control:checked~label.sk-toggleable__label {background-color: #d4ebff;}#sk-168c5f77-5f70-4de8-b03e-e12ac17a92c4 input.sk-hidden--visually {border: 0;clip: rect(1px 1px 1px 1px);clip: rect(1px, 1px, 1px, 1px);height: 1px;margin: -1px;overflow: hidden;padding: 0;position: absolute;width: 1px;}#sk-168c5f77-5f70-4de8-b03e-e12ac17a92c4 div.sk-estimator {font-family: monospace;background-color: #f0f8ff;margin: 0.25em 0.25em;border: 1px dotted black;border-radius: 0.25em;box-sizing: border-box;}#sk-168c5f77-5f70-4de8-b03e-e12ac17a92c4 div.sk-estimator:hover {background-color: #d4ebff;}#sk-168c5f77-5f70-4de8-b03e-e12ac17a92c4 div.sk-parallel-item::after {content: \"\";width: 100%;border-bottom: 1px solid gray;flex-grow: 1;}#sk-168c5f77-5f70-4de8-b03e-e12ac17a92c4 div.sk-label:hover label.sk-toggleable__label {background-color: #d4ebff;}#sk-168c5f77-5f70-4de8-b03e-e12ac17a92c4 div.sk-serial::before {content: \"\";position: absolute;border-left: 1px solid gray;box-sizing: border-box;top: 2em;bottom: 0;left: 50%;}#sk-168c5f77-5f70-4de8-b03e-e12ac17a92c4 div.sk-serial {display: flex;flex-direction: column;align-items: center;background-color: white;}#sk-168c5f77-5f70-4de8-b03e-e12ac17a92c4 div.sk-item {z-index: 1;}#sk-168c5f77-5f70-4de8-b03e-e12ac17a92c4 div.sk-parallel {display: flex;align-items: stretch;justify-content: center;background-color: white;}#sk-168c5f77-5f70-4de8-b03e-e12ac17a92c4 div.sk-parallel-item {display: flex;flex-direction: column;position: relative;background-color: white;}#sk-168c5f77-5f70-4de8-b03e-e12ac17a92c4 div.sk-parallel-item:first-child::after {align-self: flex-end;width: 50%;}#sk-168c5f77-5f70-4de8-b03e-e12ac17a92c4 div.sk-parallel-item:last-child::after {align-self: flex-start;width: 50%;}#sk-168c5f77-5f70-4de8-b03e-e12ac17a92c4 div.sk-parallel-item:only-child::after {width: 0;}#sk-168c5f77-5f70-4de8-b03e-e12ac17a92c4 div.sk-dashed-wrapped {border: 1px dashed gray;margin: 0.2em;box-sizing: border-box;padding-bottom: 0.1em;background-color: white;position: relative;}#sk-168c5f77-5f70-4de8-b03e-e12ac17a92c4 div.sk-label label {font-family: monospace;font-weight: bold;background-color: white;display: inline-block;line-height: 1.2em;}#sk-168c5f77-5f70-4de8-b03e-e12ac17a92c4 div.sk-label-container {position: relative;z-index: 2;text-align: center;}#sk-168c5f77-5f70-4de8-b03e-e12ac17a92c4 div.sk-container {display: inline-block;position: relative;}</style><div id=\"sk-168c5f77-5f70-4de8-b03e-e12ac17a92c4\" class\"sk-top-container\"><div class=\"sk-container\"><div class=\"sk-item sk-dashed-wrapped\"><div class=\"sk-label-container\"><div class=\"sk-label sk-toggleable\"><input class=\"sk-toggleable__control sk-hidden--visually\" id=\"3264ac6e-9c05-43c8-9796-4f43f322e746\" type=\"checkbox\" ><label class=\"sk-toggleable__label\" for=\"3264ac6e-9c05-43c8-9796-4f43f322e746\">Pipeline</label><div class=\"sk-toggleable__content\"><pre>Pipeline(steps=[('preproc',\n",
       "                 ColumnTransformer(transformers=[('numerical_proc',\n",
       "                                                  Pipeline(steps=[('scale',\n",
       "                                                                   RobustScaler())]),\n",
       "                                                  ['duration_min', 'budget',\n",
       "                                                   'number_of_awards_won',\n",
       "                                                   'number_of_nominations',\n",
       "                                                   'has_collection',\n",
       "                                                   'number_of_top_productions']),\n",
       "                                                 ('categorical_proc',\n",
       "                                                  Pipeline(steps=[('encode',\n",
       "                                                                   OneHotEncoder(handle_unknown='ignore',\n",
       "                                                                                 sparse=False))]),\n",
       "                                                  ['original...,\n",
       "                                                   'status',\n",
       "                                                   'available_in_english']),\n",
       "                                                 ('genre_country_encoder',\n",
       "                                                  CustomGenreAndCountryEncoder(),\n",
       "                                                  ['all_genres',\n",
       "                                                   'top_countries']),\n",
       "                                                 ('time_proc',\n",
       "                                                  Pipeline(steps=[('time_feature',\n",
       "                                                                   TimeFeaturesExtractor()),\n",
       "                                                                  ('cyclical',\n",
       "                                                                   CyclicalEncoder())]),\n",
       "                                                  ['release_date'])])),\n",
       "                ('model',\n",
       "                 RandomForestRegressor(max_depth=100, min_samples_leaf=5,\n",
       "                                       min_samples_split=5, n_estimators=20))])</pre></div></div></div><div class=\"sk-serial\"><div class=\"sk-item sk-dashed-wrapped\"><div class=\"sk-label-container\"><div class=\"sk-label sk-toggleable\"><input class=\"sk-toggleable__control sk-hidden--visually\" id=\"f716988c-edb3-494b-81c8-44a7ba353676\" type=\"checkbox\" ><label class=\"sk-toggleable__label\" for=\"f716988c-edb3-494b-81c8-44a7ba353676\">preproc: ColumnTransformer</label><div class=\"sk-toggleable__content\"><pre>ColumnTransformer(transformers=[('numerical_proc',\n",
       "                                 Pipeline(steps=[('scale', RobustScaler())]),\n",
       "                                 ['duration_min', 'budget',\n",
       "                                  'number_of_awards_won',\n",
       "                                  'number_of_nominations', 'has_collection',\n",
       "                                  'number_of_top_productions']),\n",
       "                                ('categorical_proc',\n",
       "                                 Pipeline(steps=[('encode',\n",
       "                                                  OneHotEncoder(handle_unknown='ignore',\n",
       "                                                                sparse=False))]),\n",
       "                                 ['original_language', 'status',\n",
       "                                  'available_in_english']),\n",
       "                                ('genre_country_encoder',\n",
       "                                 CustomGenreAndCountryEncoder(),\n",
       "                                 ['all_genres', 'top_countries']),\n",
       "                                ('time_proc',\n",
       "                                 Pipeline(steps=[('time_feature',\n",
       "                                                  TimeFeaturesExtractor()),\n",
       "                                                 ('cyclical',\n",
       "                                                  CyclicalEncoder())]),\n",
       "                                 ['release_date'])])</pre></div></div></div><div class=\"sk-parallel\"><div class=\"sk-parallel-item\"><div class=\"sk-item\"><div class=\"sk-label-container\"><div class=\"sk-label sk-toggleable\"><input class=\"sk-toggleable__control sk-hidden--visually\" id=\"92b11d24-1e4b-4cdf-acfb-7528b656d3fa\" type=\"checkbox\" ><label class=\"sk-toggleable__label\" for=\"92b11d24-1e4b-4cdf-acfb-7528b656d3fa\">numerical_proc</label><div class=\"sk-toggleable__content\"><pre>['duration_min', 'budget', 'number_of_awards_won', 'number_of_nominations', 'has_collection', 'number_of_top_productions']</pre></div></div></div><div class=\"sk-serial\"><div class=\"sk-item\"><div class=\"sk-serial\"><div class=\"sk-item\"><div class=\"sk-estimator sk-toggleable\"><input class=\"sk-toggleable__control sk-hidden--visually\" id=\"9d76e21a-e4d8-4e1d-9f53-97ed963b00e4\" type=\"checkbox\" ><label class=\"sk-toggleable__label\" for=\"9d76e21a-e4d8-4e1d-9f53-97ed963b00e4\">RobustScaler</label><div class=\"sk-toggleable__content\"><pre>RobustScaler()</pre></div></div></div></div></div></div></div></div><div class=\"sk-parallel-item\"><div class=\"sk-item\"><div class=\"sk-label-container\"><div class=\"sk-label sk-toggleable\"><input class=\"sk-toggleable__control sk-hidden--visually\" id=\"c30bccb9-ecf8-44d1-98fe-ed30cbdb5c7d\" type=\"checkbox\" ><label class=\"sk-toggleable__label\" for=\"c30bccb9-ecf8-44d1-98fe-ed30cbdb5c7d\">categorical_proc</label><div class=\"sk-toggleable__content\"><pre>['original_language', 'status', 'available_in_english']</pre></div></div></div><div class=\"sk-serial\"><div class=\"sk-item\"><div class=\"sk-serial\"><div class=\"sk-item\"><div class=\"sk-estimator sk-toggleable\"><input class=\"sk-toggleable__control sk-hidden--visually\" id=\"490422e0-b5f8-4912-a30d-66ddff60abda\" type=\"checkbox\" ><label class=\"sk-toggleable__label\" for=\"490422e0-b5f8-4912-a30d-66ddff60abda\">OneHotEncoder</label><div class=\"sk-toggleable__content\"><pre>OneHotEncoder(handle_unknown='ignore', sparse=False)</pre></div></div></div></div></div></div></div></div><div class=\"sk-parallel-item\"><div class=\"sk-item\"><div class=\"sk-label-container\"><div class=\"sk-label sk-toggleable\"><input class=\"sk-toggleable__control sk-hidden--visually\" id=\"393d64f5-f15f-4ac5-aaa3-10a6878cf0f4\" type=\"checkbox\" ><label class=\"sk-toggleable__label\" for=\"393d64f5-f15f-4ac5-aaa3-10a6878cf0f4\">genre_country_encoder</label><div class=\"sk-toggleable__content\"><pre>['all_genres', 'top_countries']</pre></div></div></div><div class=\"sk-serial\"><div class=\"sk-item\"><div class=\"sk-estimator sk-toggleable\"><input class=\"sk-toggleable__control sk-hidden--visually\" id=\"c38d78d2-5de5-427f-9fcd-cd39f2e03317\" type=\"checkbox\" ><label class=\"sk-toggleable__label\" for=\"c38d78d2-5de5-427f-9fcd-cd39f2e03317\">CustomGenreAndCountryEncoder</label><div class=\"sk-toggleable__content\"><pre>CustomGenreAndCountryEncoder()</pre></div></div></div></div></div></div><div class=\"sk-parallel-item\"><div class=\"sk-item\"><div class=\"sk-label-container\"><div class=\"sk-label sk-toggleable\"><input class=\"sk-toggleable__control sk-hidden--visually\" id=\"c9e915b7-dd84-44bd-bf56-4275e730f3f5\" type=\"checkbox\" ><label class=\"sk-toggleable__label\" for=\"c9e915b7-dd84-44bd-bf56-4275e730f3f5\">time_proc</label><div class=\"sk-toggleable__content\"><pre>['release_date']</pre></div></div></div><div class=\"sk-serial\"><div class=\"sk-item\"><div class=\"sk-serial\"><div class=\"sk-item\"><div class=\"sk-estimator sk-toggleable\"><input class=\"sk-toggleable__control sk-hidden--visually\" id=\"d2268d4e-ea32-43a7-ba8d-069f2630ab32\" type=\"checkbox\" ><label class=\"sk-toggleable__label\" for=\"d2268d4e-ea32-43a7-ba8d-069f2630ab32\">TimeFeaturesExtractor</label><div class=\"sk-toggleable__content\"><pre>TimeFeaturesExtractor()</pre></div></div></div><div class=\"sk-item\"><div class=\"sk-estimator sk-toggleable\"><input class=\"sk-toggleable__control sk-hidden--visually\" id=\"f1f98367-ecd0-4984-8f63-8d4b62f101cc\" type=\"checkbox\" ><label class=\"sk-toggleable__label\" for=\"f1f98367-ecd0-4984-8f63-8d4b62f101cc\">CyclicalEncoder</label><div class=\"sk-toggleable__content\"><pre>CyclicalEncoder()</pre></div></div></div></div></div></div></div></div></div></div><div class=\"sk-item\"><div class=\"sk-estimator sk-toggleable\"><input class=\"sk-toggleable__control sk-hidden--visually\" id=\"69d44f2e-e88c-4a9f-ac97-fc6c809d0fb3\" type=\"checkbox\" ><label class=\"sk-toggleable__label\" for=\"69d44f2e-e88c-4a9f-ac97-fc6c809d0fb3\">RandomForestRegressor</label><div class=\"sk-toggleable__content\"><pre>RandomForestRegressor(max_depth=100, min_samples_leaf=5, min_samples_split=5,\n",
       "                      n_estimators=20)</pre></div></div></div></div></div></div></div>"
      ],
      "text/plain": [
       "Pipeline(steps=[('preproc',\n",
       "                 ColumnTransformer(transformers=[('numerical_proc',\n",
       "                                                  Pipeline(steps=[('scale',\n",
       "                                                                   RobustScaler())]),\n",
       "                                                  ['duration_min', 'budget',\n",
       "                                                   'number_of_awards_won',\n",
       "                                                   'number_of_nominations',\n",
       "                                                   'has_collection',\n",
       "                                                   'number_of_top_productions']),\n",
       "                                                 ('categorical_proc',\n",
       "                                                  Pipeline(steps=[('encode',\n",
       "                                                                   OneHotEncoder(handle_unknown='ignore',\n",
       "                                                                                 sparse=False))]),\n",
       "                                                  ['original...,\n",
       "                                                   'status',\n",
       "                                                   'available_in_english']),\n",
       "                                                 ('genre_country_encoder',\n",
       "                                                  CustomGenreAndCountryEncoder(),\n",
       "                                                  ['all_genres',\n",
       "                                                   'top_countries']),\n",
       "                                                 ('time_proc',\n",
       "                                                  Pipeline(steps=[('time_feature',\n",
       "                                                                   TimeFeaturesExtractor()),\n",
       "                                                                  ('cyclical',\n",
       "                                                                   CyclicalEncoder())]),\n",
       "                                                  ['release_date'])])),\n",
       "                ('model',\n",
       "                 RandomForestRegressor(max_depth=100, min_samples_leaf=5,\n",
       "                                       min_samples_split=5, n_estimators=20))])"
      ]
     },
     "execution_count": 149,
     "metadata": {},
     "output_type": "execute_result"
    }
   ],
   "source": [
    "best_pipeline.fit(X, y)"
   ]
  },
  {
   "cell_type": "markdown",
   "metadata": {},
   "source": [
    "### Prediction\n",
    "\n",
    "Now you have your model tuned with the best hyperparameters, you are ready for a prediction.\n",
    "\n",
    "Here is a famous TV show released in 2017:\n",
    "\n",
    "```python\n",
    "dict(\n",
    "        original_title=str(\"La Casa de Papel\"),\n",
    "        title=str(\"Money Heist\"), \n",
    "        release_date= pd.to_datetime([\"2017-05-02\"]), \n",
    "        duration_min=float(50),\n",
    "        description=str(\"An unusual group of robbers attempt to carry out the most perfect robbery\"), \n",
    "        budget=float(3_000_000), \n",
    "        original_language =str(\"es\"), \n",
    "        status=str(\"Released\"),\n",
    "        number_of_awards_won =int(2), \n",
    "        number_of_nominations=int(5), \n",
    "        has_collection=int(1),\n",
    "        all_genres=str(\"Action, Crime, Mystery\"), \n",
    "        top_countries=str(\"Spain, France, United States of America\"), \n",
    "        number_of_top_productions=int('1'),\n",
    "        available_in_english=bool('True') \n",
    ")\n",
    "```\n",
    "\n",
    "**📝 Compute the predicted popularity of this TV show and store it into the `popularity` variable as a floating number.**"
   ]
  },
  {
   "cell_type": "code",
   "execution_count": 150,
   "metadata": {
    "ExecuteTime": {
     "end_time": "2021-06-30T12:20:25.399108Z",
     "start_time": "2021-06-30T12:20:25.394993Z"
    },
    "tags": [
     "challengify"
    ]
   },
   "outputs": [],
   "source": [
    "X_pred = pd.DataFrame.from_dict(dict(\n",
    "        original_title=str(\"La Casa de Papel\"),\n",
    "        title=str(\"Money Heist\"), \n",
    "        release_date= pd.to_datetime([\"2017-05-02\"]), \n",
    "        duration_min=float(50),\n",
    "        description=str(\"An unusual group of robbers attempt to carry out the most perfect robbery\"), \n",
    "        budget=float(3_000_000), \n",
    "        original_language =str(\"es\"), \n",
    "        status=str(\"Released\"),\n",
    "        number_of_awards_won =int(2), \n",
    "        number_of_nominations=int(5), \n",
    "        has_collection=int(1),\n",
    "        all_genres=str(\"Action, Crime, Mystery\"), \n",
    "        top_countries=str(\"Spain, France, United States of America\"), \n",
    "        number_of_top_productions=int('1'),\n",
    "        available_in_english=bool('True') \n",
    "))"
   ]
  },
  {
   "cell_type": "code",
   "execution_count": 153,
   "metadata": {
    "ExecuteTime": {
     "end_time": "2021-06-30T12:20:34.339064Z",
     "start_time": "2021-06-30T12:20:34.321029Z"
    },
    "tags": [
     "challengify"
    ]
   },
   "outputs": [
    {
     "data": {
      "text/plain": [
       "12.376921275817931"
      ]
     },
     "execution_count": 153,
     "metadata": {},
     "output_type": "execute_result"
    }
   ],
   "source": [
    "popularity = best_pipeline.predict(X_pred)[0]\n",
    "popularity"
   ]
  },
  {
   "cell_type": "markdown",
   "metadata": {},
   "source": [
    "### 🧪 Save your results\n",
    "\n",
    "Run the following cell to save your results."
   ]
  },
  {
   "cell_type": "code",
   "execution_count": 154,
   "metadata": {
    "ExecuteTime": {
     "end_time": "2021-06-30T12:21:21.924144Z",
     "start_time": "2021-06-30T12:21:21.915206Z"
    }
   },
   "outputs": [],
   "source": [
    "ChallengeResult(\n",
    "    \"model_tuning\",\n",
    "    search=search,\n",
    "    best_pipeline=best_pipeline,\n",
    "    best_scores = best_scores,\n",
    "    popularity=popularity\n",
    ").write()"
   ]
  },
  {
   "cell_type": "markdown",
   "metadata": {},
   "source": [
    "## API \n",
    "\n",
    "Time to put a pipeline in production!\n",
    "\n",
    "👉 Go to https://github.com/lewagon/data-certification-api and follow instructions\n",
    "\n",
    "**This final part is independent from the above notebook**"
   ]
  }
 ],
 "metadata": {
  "interpreter": {
   "hash": "572b4e543617d03e90ecaf525e08695da1ff29b13594f787e33b342cf572f792"
  },
  "kernelspec": {
   "display_name": "Python 3",
   "language": "python",
   "name": "python3"
  },
  "language_info": {
   "codemirror_mode": {
    "name": "ipython",
    "version": 3
   },
   "file_extension": ".py",
   "mimetype": "text/x-python",
   "name": "python",
   "nbconvert_exporter": "python",
   "pygments_lexer": "ipython3",
   "version": "3.8.6"
  },
  "toc": {
   "base_numbering": 1,
   "nav_menu": {},
   "number_sections": true,
   "sideBar": true,
   "skip_h1_title": true,
   "title_cell": "Table of Contents",
   "title_sidebar": "Contents",
   "toc_cell": false,
   "toc_position": {
    "height": "calc(100% - 180px)",
    "left": "10px",
    "top": "150px",
    "width": "242px"
   },
   "toc_section_display": true,
   "toc_window_display": true
  },
  "varInspector": {
   "cols": {
    "lenName": 16,
    "lenType": 16,
    "lenVar": 40
   },
   "kernels_config": {
    "python": {
     "delete_cmd_postfix": "",
     "delete_cmd_prefix": "del ",
     "library": "var_list.py",
     "varRefreshCmd": "print(var_dic_list())"
    },
    "r": {
     "delete_cmd_postfix": ") ",
     "delete_cmd_prefix": "rm(",
     "library": "var_list.r",
     "varRefreshCmd": "cat(var_dic_list()) "
    }
   },
   "types_to_exclude": [
    "module",
    "function",
    "builtin_function_or_method",
    "instance",
    "_Feature"
   ],
   "window_display": false
  }
 },
 "nbformat": 4,
 "nbformat_minor": 4
}
